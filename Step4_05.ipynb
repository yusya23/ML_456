{
 "cells": [
  {
   "cell_type": "markdown",
   "metadata": {},
   "source": [
    "# Step4 演習05 ロジスティック回帰からニューラルネットへ\n",
    "---\n",
    "\n",
    "Step4では手書き数字の認識(Optical Character Recognition; OCR)を実装します。\n",
    "\n",
    "まずはロジスティック回帰で実装を行い、モデルやパラメータを変更することによってスコアへどのような影響があるか体験してもらいます。\n",
    "\n",
    "今回はscikit-learnを利用して実装を行います。\n",
    "\n",
    "OCRはマルチクラス分類問題ですが、scikit-learnの`LogisticRegression()`を使うとオプションなしで一対多分類器として動いてくれるため、とても簡単にOCRを実装できます。\n",
    "\n",
    "次に、ニューラルネットワークでロジスティック回帰を実装します。\n",
    "\n",
    "多層のニューラルネットワークへの学習（ディープラーニング）もパラメータを変えるだけで実現できるので、学習にかかる時間とスコアの違いを身をもって体感してください。\n",
    "\n",
    "**はじめに**\n",
    "- for文やwhile文の利用は明示的な利用指示がない場所での使用は避けてください。\n",
    "\n",
    "**本演習の目的**\n",
    "- scikit-learnを使ったニューラルネットワークの実装を行う。"
   ]
  },
  {
   "cell_type": "markdown",
   "metadata": {},
   "source": [
    "## ライブラリのインポート\n",
    "\n",
    "まずはじめに、利用するライブラリのインポートを行います。\n",
    "\n",
    "- [numpy](http://www.numpy.org) 数値計算を行うための基本パッケージの公式ドキュメント\n",
    "- [matplotlib](http://matplotlib.org) グラフ描画ライブラリの基本パッケージの公式ドキュメント\n",
    "- [scikit-learn](http://scikit-learn.org/stable/index.html) Pythonのオープンソース機械学習ライブラリの公式ドキュメント\n",
    "\n",
    "ドキュメントには有用な情報が書き記されています。何か迷ったときには必ずドキュメントに戻ってくるようにしましょう。\n",
    "\n",
    "次のセルをそのまま実行（\"SHIFT\" + \"ENTER\"）してください。コードが書いてあるセルは**上から順番に**順次実行してください。\n",
    "\n",
    "** 注意： **初めてmatplotlibを使うユーザーは、フォント一覧のキャッシュが存在しないため、このセルの実行でWarningが出ます。もう一度実行すると、すでにキャッシュができているので、Warningなく走ります。"
   ]
  },
  {
   "cell_type": "code",
   "execution_count": 2,
   "metadata": {
    "collapsed": true
   },
   "outputs": [],
   "source": [
    "%matplotlib inline\n",
    "import numpy as np\n",
    "import matplotlib.pyplot as plt\n",
    "from sklearn import datasets\n",
    "from sklearn.linear_model import LogisticRegression\n",
    "from sklearn.model_selection import learning_curve\n",
    "from sklearn.preprocessing import PolynomialFeatures\n",
    "from sklearn.pipeline import Pipeline\n",
    "font = {'family':'IPAexGothic'}\n",
    "plt.rc('font', **font)"
   ]
  },
  {
   "cell_type": "markdown",
   "metadata": {},
   "source": [
    "## 今回使うデータに関して\n",
    "数字OCRベンチマーク用サンプルデータとして、MNISTのデータが有名です。機械学習業界の\"Hello, world!\"ということができるでしょう。\n",
    "\n",
    "「0」から「9」までの10種類の数字をこれから判別します。"
   ]
  },
  {
   "cell_type": "code",
   "execution_count": 3,
   "metadata": {
    "collapsed": true
   },
   "outputs": [],
   "source": [
    "num_labels = 10 #「0」から「9」の数字をこれから判別します。"
   ]
  },
  {
   "cell_type": "markdown",
   "metadata": {},
   "source": [
    "## MNISTデータのロード\n",
    "データをロードします。\n",
    "mldata.orgからMNIST originalデータをダウンロードします。使用している回線によっては時間がかかる場合があります。\n",
    "\n",
    "一度ダウンロードしたらキャッシュしますので、再度走らせるときはダウンロードの時間がかかりません。"
   ]
  },
  {
   "cell_type": "code",
   "execution_count": 4,
   "metadata": {
    "collapsed": true
   },
   "outputs": [],
   "source": [
    "mnist = datasets.fetch_mldata('MNIST original')"
   ]
  },
  {
   "cell_type": "markdown",
   "metadata": {},
   "source": [
    "今回使用するMNISTの画像の枚数は70000枚、画像データのと特徴は28x28 = 784ピクセルです。\n",
    "\n",
    "- 画像データの数：70000枚\n",
    "- 画像データの特徴：28x28 = 784ピクセル\n",
    "\n",
    "下のセルを実行することで画像データの数を** num_data **に、画像データの特徴を** input_layer_size  ** にそれぞれ格納します。\n"
   ]
  },
  {
   "cell_type": "code",
   "execution_count": 5,
   "metadata": {
    "collapsed": true
   },
   "outputs": [],
   "source": [
    "num_data, input_layer_size = mnist.data.shape #70000枚の28x28=784ピクセルの画像です"
   ]
  },
  {
   "cell_type": "code",
   "execution_count": 6,
   "metadata": {
    "collapsed": false
   },
   "outputs": [
    {
     "name": "stdout",
     "output_type": "stream",
     "text": [
      "訓練データ数：70000\n",
      "訓練データの特徴の数：784\n"
     ]
    }
   ],
   "source": [
    "print(\"訓練データ数：{}\".format(num_data))\n",
    "print(\"訓練データの特徴の数：{}\".format(input_layer_size))"
   ]
  },
  {
   "cell_type": "markdown",
   "metadata": {},
   "source": [
    "## データのシャッフル\n",
    "MNIST originalデータをシャッフルしてその冒頭3000サンプルだけ訓練データとして利用することにします。\n",
    "\n",
    "今回使用するMNISTデータのサンプル数は70000です。この全てを訓練データとして使ってしまうと、学習に使用しなかったデータに対しても正しく予測してくれるのか判断する方法がなくなってしまいます。試作段階では全てのデータを学習に用いてはいけません。（詳しくはStep5で学びます）\n",
    "\n",
    "また今回10分の1未満のデータせセットしか学習に使わないのは別の理由もあります。マシンスペックの関係で、膨大なデータを用いると学習がなかなか終わらないためです。今回は3000サンプルのみを使用します。\n",
    "\n",
    "ここで3000サンプルをピックアップする前にデータをシャッフルするのは何故でしょうか。例えば、データがラベル(y)に対してソートされていたとします。すると、そのまま冒頭3000サンプルを取ってしまうと、0, 1と書いてあるデータばかりが集まってしまうことになってしまいます。ぱっと見で分からないような規則でソートされている可能性もあるので、一見バラバラに見えても必ず最初にシャッフルしましょう。"
   ]
  },
  {
   "cell_type": "markdown",
   "metadata": {},
   "source": [
    "下のセルを実行すると3000サンプルをランダムにシャッフルしたデータを、** X ** と ** y ** にそれぞれ格納してくれます。"
   ]
  },
  {
   "cell_type": "code",
   "execution_count": 7,
   "metadata": {
    "collapsed": true
   },
   "outputs": [],
   "source": [
    "shuffle_idx = np.random.permutation(num_data)\n",
    "X = mnist.data[shuffle_idx[:3000]]   # ランダム化された画像データ3000枚\n",
    "y = mnist.target[shuffle_idx[:3000]] # 各画像（3000枚）に書かれている数字（「正しい答え」）"
   ]
  },
  {
   "cell_type": "markdown",
   "metadata": {},
   "source": [
    "データのシャッフルはscikit-learnのtrain_test_splitを使うこともできます。これは訓練用のデータとテスト用のデータを分けてくれるので便利です。習熟したらscikit-learnチュートリアルを読んでこれを使いましょう。\n",
    "\n",
    "参考：\n",
    "[scikit-learnチュートリアル sklearn.cross_validation.train_test_split](http://scikit-learn.org/stable/modules/generated/sklearn.cross_validation.train_test_split.html#sklearn.cross_validation.train_test_split)"
   ]
  },
  {
   "cell_type": "markdown",
   "metadata": {},
   "source": [
    "訓練例の数(3000個)は`m`、特徴の数(784ピクセル)は`n`に格納します。"
   ]
  },
  {
   "cell_type": "code",
   "execution_count": 8,
   "metadata": {
    "collapsed": true
   },
   "outputs": [],
   "source": [
    "m, n = X.shape #訓練例の数はm, 特徴の数はn"
   ]
  },
  {
   "cell_type": "code",
   "execution_count": 9,
   "metadata": {
    "collapsed": false
   },
   "outputs": [
    {
     "name": "stdout",
     "output_type": "stream",
     "text": [
      "訓練例の数：3000\n",
      "特徴の数：784\n"
     ]
    }
   ],
   "source": [
    "print(\"訓練例の数：{}\".format(m))\n",
    "print(\"特徴の数：{}\".format(n))"
   ]
  },
  {
   "cell_type": "markdown",
   "metadata": {},
   "source": [
    "## データの視覚化\n",
    "使用するデータの準備ができました。ここではランダムに並べた最初の画像を表示させてみます。\n",
    "\n",
    "配列`X`には3000枚の画像データ(pixel)が、一列に並んで入っています。（`X`の`shape`は`(3000, 784)`）\n",
    "\n",
    "この画像を表示させるには、一列に並んでしまっている`3000`枚の画像データをそれぞれ２次元`(28, 28)`に戻す必要があります。それには`reshape`を使います。\n",
    "\n",
    "下の画像は一枚の数字データに対してreshapeを行なったイメージ図です。"
   ]
  },
  {
   "cell_type": "markdown",
   "metadata": {},
   "source": [
    "<div align=\"center\"  style=\"width:70%\">\n",
    "<img src=\"./dataStep4/img_reshape.png\"></div>"
   ]
  },
  {
   "cell_type": "code",
   "execution_count": 10,
   "metadata": {
    "collapsed": false
   },
   "outputs": [
    {
     "data": {
      "image/png": "[encoded data removed]",
      "text/plain": [
       "<matplotlib.figure.Figure at 0x7fb7f0a8a978>"
      ]
     },
     "metadata": {},
     "output_type": "display_data"
    },
    {
     "name": "stdout",
     "output_type": "stream",
     "text": [
      "数字 1\n"
     ]
    }
   ],
   "source": [
    "X_reshaped = X.reshape((3000, 28, 28))\n",
    "\n",
    "plt.imshow(X_reshaped[0,:,:])\n",
    "plt.axis(\"off\")\n",
    "plt.gray()\n",
    "plt.show()\n",
    "\n",
    "print(\"数字 {0:1.0f}\".format(y[0]))"
   ]
  },
  {
   "cell_type": "markdown",
   "metadata": {},
   "source": [
    "一つだけでは見栄えがしないので、100個表示させるプログラムを関数（ `displayData(images)` ）として実装しておきましょう。"
   ]
  },
  {
   "cell_type": "code",
   "execution_count": null,
   "metadata": {
    "collapsed": true
   },
   "outputs": [],
   "source": [
    "def displayData(images):\n",
    "    images_reshaped = images.reshape((100, 28, 28))\n",
    "    for i in range(100):\n",
    "        plt.subplot(10,10,i+1)\n",
    "        plt.imshow(images_reshaped[i,:,:])\n",
    "        plt.axis(\"off\")\n",
    "        plt.gray()\n",
    "    plt.show()"
   ]
  },
  {
   "cell_type": "markdown",
   "metadata": {},
   "source": [
    "これを使って、訓練データから冒頭100個選んで視覚化しましょう。多少表示に時間がかかります。\n",
    "\n",
    "セルの左、In [何某]のところが＊になっているとき、そのセルは実行中です。"
   ]
  },
  {
   "cell_type": "code",
   "execution_count": null,
   "metadata": {
    "collapsed": true
   },
   "outputs": [],
   "source": [
    "displayData(X[:100, :])"
   ]
  },
  {
   "cell_type": "markdown",
   "metadata": {},
   "source": [
    "---\n",
    "## ニューラルネットワーク\n",
    "さて、どんな解析関数（多項式で表せる関数）にもフィッティングできる多項式の仮説を用いたロジスティック回帰は、あまりに学習不良を起こしやすく、使い物にならないことが分かりました。では、つぎにニューラルネットワークを実装しましょう。\n",
    "\n",
    "scikit-learnのニューラルネットワークのAPIを利用してみます。\n",
    "\n",
    "参考：\n",
    "[scikit-learnチュートリアル sklearn.neural_network.MLPClassifier](http://scikit-learn.org/stable/modules/generated/sklearn.neural_network.MLPClassifier.html)"
   ]
  },
  {
   "cell_type": "code",
   "execution_count": null,
   "metadata": {
    "collapsed": true
   },
   "outputs": [],
   "source": [
    "from sklearn.neural_network import MLPClassifier"
   ]
  },
  {
   "cell_type": "markdown",
   "metadata": {},
   "source": [
    "### モデルを立てる\n",
    "では、モデルを立てましょう。ラッパーを使っているおかげで、ロジスティック回帰の時と似た雰囲気で実装できます。\n",
    "\n",
    "今回、隠れ層１層、そのユニット数は50個にしています。\n",
    "訓練例はとりあえず1000個としましょう。"
   ]
  },
  {
   "cell_type": "code",
   "execution_count": null,
   "metadata": {
    "collapsed": true
   },
   "outputs": [],
   "source": [
    "X1_train = mnist.data[shuffle_idx[:1000]] #学習時間削減のため1000個だけ対象にする\n",
    "y1_train = mnist.target[shuffle_idx[0:1000]]\n",
    "X1_CV = mnist.data[shuffle_idx[1000:1500]]\n",
    "y1_CV = mnist.target[shuffle_idx[1000:1500]]"
   ]
  },
  {
   "cell_type": "code",
   "execution_count": null,
   "metadata": {
    "collapsed": true
   },
   "outputs": [],
   "source": [
    "estimator_nn = MLPClassifier(hidden_layer_sizes=(50, ),max_iter=1000)"
   ]
  },
  {
   "cell_type": "code",
   "execution_count": null,
   "metadata": {
    "collapsed": true
   },
   "outputs": [],
   "source": [
    "estimator_nn.fit(X1_train, y1_train)\n",
    "score_nn_train = estimator_nn.score(X1_train, y1_train)\n",
    "score_nn_CV = estimator_nn.score(X1_CV, y1_CV)\n",
    "print(\"学習スコアは\",score_nn_train,\"、交差検証スコアは\",score_nn_CV)"
   ]
  },
  {
   "cell_type": "markdown",
   "metadata": {},
   "source": [
    "ウェイト（パラメータ）の数がロジスティック回帰よりも増えているため、訓練例1000個ではロジスティック回帰よりも交差検証スコアも低いようです。"
   ]
  },
  {
   "cell_type": "markdown",
   "metadata": {},
   "source": [
    "### 学習曲線をプロットする\n",
    "**【課題６】** 同じモデルで、訓練例の数を変えるとどのようにスコアが変わるかプロットしてみよう。Step4_02の学習曲線を描画する関数をヒントにしよう。"
   ]
  },
  {
   "cell_type": "code",
   "execution_count": null,
   "metadata": {
    "collapsed": true
   },
   "outputs": [],
   "source": [
    "#Coursemale-02 Step4 QuestionNumber6 6845b2535ed5df4ec5c17decf3dce0d0\n",
    "def learning_curve_plot(estimator, X, y, train_sizes):\n",
    "###############ここを穴埋めしてください###############\n",
    "    plt.figure()\n",
    "    plt.title(u\"学習曲線\")\n",
    "    plt.xlabel(u\"訓練例の数\")\n",
    "    plt.ylabel(u\"スコア\")\n",
    "    train_sizes, train_scores, test_scores = learning_curve(estimator, X, y, train_sizes=train_sizes, n_jobs=2)\n",
    "    train_scores_mean = np.mean(train_scores, axis=1)\n",
    "    train_scores_std = np.std(train_scores, axis=1)\n",
    "    test_scores_mean = np.mean(test_scores, axis=1)\n",
    "    test_scores_std = np.std(test_scores, axis=1)\n",
    "    plt.grid()\n",
    "    plt.ylim(ymax=1)\n",
    "    plt.fill_between(train_sizes, train_scores_mean - train_scores_std, train_scores_mean + train_scores_std, alpha=0.1, color=\"r\")\n",
    "    plt.fill_between(train_sizes, test_scores_mean - test_scores_std, test_scores_mean + test_scores_std, alpha=0.1, color=\"g\")\n",
    "    plt.plot(train_sizes, train_scores_mean, 'o-', color=\"r\", label=\"学習スコア\")\n",
    "    plt.plot(train_sizes, test_scores_mean, 'o-', color=\"g\", label=\"交差検証スコア\")\n",
    "    plt.legend(loc=\"best\")\n",
    "    plt.show() \n",
    " #############################################################"
   ]
  },
  {
   "cell_type": "markdown",
   "metadata": {},
   "source": [
    "左上の**保存マークをクリックした後**、次のセルをShift+Enterで実行して採点します。"
   ]
  },
  {
   "cell_type": "code",
   "execution_count": null,
   "metadata": {
    "collapsed": true
   },
   "outputs": [],
   "source": [
    "%%bash\n",
    "./validation_client.py male-02 4 6 Step4_05.ipynb api.internal.zero2one.jp"
   ]
  },
  {
   "cell_type": "code",
   "execution_count": null,
   "metadata": {
    "collapsed": true,
    "scrolled": true
   },
   "outputs": [],
   "source": [
    "learning_curve_plot(estimator_nn, mnist.data[shuffle_idx[:]], mnist.target[shuffle_idx[:]], np.linspace(0.012, 0.21,5))"
   ]
  },
  {
   "cell_type": "markdown",
   "metadata": {},
   "source": [
    "scikit-learnのニューラルネットワーク実装は今のところCPUのみを用いた学習しか対応していません。これはCPUによる実装としては非常に高速ですが、一般には、GPUなどのコプロセッサーが活用され、大規模な学習が行われています。"
   ]
  },
  {
   "cell_type": "markdown",
   "metadata": {},
   "source": [
    "### （発展）層を深くする（ディープラーニング）\n",
    "層を深くするとどうなるだろうか。ユニット数を増やすとどうなるだろうか。とても時間がかかるので、寝ている間など、コンピューターを使わない時間帯に学習してスコアを計算するプログラムを走らせておこう。"
   ]
  },
  {
   "cell_type": "markdown",
   "metadata": {},
   "source": [
    "## おわりに\n",
    "今回の演習は盛りだくさんであるため、これでおしまいとします。Step8の演習ではニューラルネットワークをライブラリを使うだけではなく、自前でも実装します。自前での実装はモデル全体を把握し適切な実装を行う必要があり大変ですが、大変重要な練習です。また、Scikit-learnのパラメータを変化させながら実装し結果を確認することや自前で実装したニューラルネットワークとの違いを比較・検討することで、それが何を意味するのか考えていく練習も、貴重な時間を有意義に過ごせるでしょう。"
   ]
  },
  {
   "cell_type": "code",
   "execution_count": null,
   "metadata": {
    "collapsed": true
   },
   "outputs": [],
   "source": []
  }
 ],
 "metadata": {
  "anaconda-cloud": {},
  "kernelspec": {
   "display_name": "Python [default]",
   "language": "python",
   "name": "python3"
  },
  "language_info": {
   "codemirror_mode": {
    "name": "ipython",
    "version": 3
   },
   "file_extension": ".py",
   "mimetype": "text/x-python",
   "name": "python",
   "nbconvert_exporter": "python",
   "pygments_lexer": "ipython3",
   "version": "3.5.2"
  },
  "toc": {
   "nav_menu": {
    "height": "216px",
    "width": "252px"
   },
   "navigate_menu": true,
   "number_sections": true,
   "sideBar": true,
   "threshold": 4,
   "toc_cell": false,
   "toc_section_display": "block",
   "toc_window_display": true
  }
 },
 "nbformat": 4,
 "nbformat_minor": 1
}
