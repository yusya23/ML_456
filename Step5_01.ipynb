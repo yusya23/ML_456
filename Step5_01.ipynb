{
 "cells": [
  {
   "cell_type": "markdown",
   "metadata": {},
   "source": [
    "# Step5 演習01 アンダーフィッティングとオーバーフィッティング\n",
    "---"
   ]
  },
  {
   "cell_type": "markdown",
   "metadata": {},
   "source": [
    "Step5ではアンダーフィッティングとオーバーフィッティングの見分け方と対策法を学習します。今回は線形回帰の例を用います。\n",
    "\n",
    "**はじめに**\n",
    "- for文やwhile文の利用は明示的な利用指示がない場所での使用は避けてください。\n",
    "\n",
    "**本演習の目的**\n",
    "- アンダーフィッティングとオーバーフィッティングの見分け方や対策方法を学ぶ。"
   ]
  },
  {
   "cell_type": "markdown",
   "metadata": {},
   "source": [
    "## ライブラリのインポート\n",
    "\n",
    "まずはじめに、利用するライブラリのインポートを行います。\n",
    "\n",
    "- [numpy](http://www.numpy.org) 数値計算を行うための基本パッケージの公式ドキュメント\n",
    "- [matplotlib](http://matplotlib.org) グラフ描画ライブラリの基本パッケージの公式ドキュメント\n",
    "- [SciPy](https://docs.scipy.org/doc/) 数値解析ライブラリの基本パッケージの公式ドキュメント\n",
    "\n",
    "ドキュメントには有用な情報が書き記されています。何か迷ったときには必ずドキュメントに戻ってくるようにしましょう。\n",
    "\n",
    "次のセルをそのまま実行（\"SHIFT\" + \"ENTER\"）してください。コードが書いてあるセルは**上から順番に**順次実行してください。\n",
    "\n",
    "** 注意： **初めてmatplotlibを使うユーザーは、フォント一覧のキャッシュが存在しないため、このセルの実行でWarningが出ます。もう一度実行すると、すでにキャッシュができているので、Warningなく走ります。"
   ]
  },
  {
   "cell_type": "code",
   "execution_count": 4,
   "metadata": {
    "collapsed": true
   },
   "outputs": [],
   "source": [
    "%matplotlib inline\n",
    "import numpy as np\n",
    "import matplotlib.pyplot as plt\n",
    "import scipy.optimize as scopt\n",
    "from functools import partial #関数の一部の引数を固定するのに使う\n",
    "import os\n",
    "font = {'family':'IPAexGothic'}\n",
    "plt.rc('font', **font)"
   ]
  },
  {
   "cell_type": "markdown",
   "metadata": {},
   "source": [
    "## サンプルデータのロードとインデックスの生成"
   ]
  },
  {
   "cell_type": "markdown",
   "metadata": {},
   "source": [
    "サンプルデータをロードします。線形関数ではフィッティングできないものの、さほど複雑ではない分布をしているデータが格納されています。"
   ]
  },
  {
   "cell_type": "code",
   "execution_count": 5,
   "metadata": {
    "collapsed": true
   },
   "outputs": [],
   "source": [
    "data = np.loadtxt(\"./dataStep5/dataStep5.csv\", delimiter=\",\")\n",
    "data_m, data_n = data.shape"
   ]
  },
  {
   "cell_type": "markdown",
   "metadata": {},
   "source": [
    "各訓練例をシャッフルしてインデックスをつけておきます。扱う訓練例が少ないため、人為的に選んだインデックスを使います。"
   ]
  },
  {
   "cell_type": "code",
   "execution_count": 6,
   "metadata": {
    "collapsed": true
   },
   "outputs": [],
   "source": [
    "if os.path.isfile(\"./dataStep5/dataStep5_shuffle_idx.csv\") == True:\n",
    "    shuffle_idx = np.loadtxt(\"./dataStep5/dataStep5_shuffle_idx.csv\", delimiter = \",\", dtype=np.uint8)\n",
    "\n",
    "else:\n",
    "    shuffle_idx =  np.random.permutation(data_m)\n",
    "    np.savetxt(\"./dataStep5/dataStep5_shuffle_idx.csv\", shuffle_idx, delimiter=\",\", fmt = \"%d\")"
   ]
  },
  {
   "cell_type": "markdown",
   "metadata": {},
   "source": [
    "上のセルを実行したことによりデータセットを \"data\" に格納しました。下のセルを実行して、dataのshapeを確認しましょう。"
   ]
  },
  {
   "cell_type": "code",
   "execution_count": 7,
   "metadata": {
    "collapsed": false
   },
   "outputs": [
    {
     "data": {
      "text/plain": [
       "(200, 2)"
      ]
     },
     "execution_count": 7,
     "metadata": {},
     "output_type": "execute_result"
    }
   ],
   "source": [
    "data.shape"
   ]
  },
  {
   "cell_type": "markdown",
   "metadata": {},
   "source": [
    "(200,2)と表示されたはずです。今回使うデータセットは200行2列の行列がdataに格納されています。"
   ]
  },
  {
   "cell_type": "markdown",
   "metadata": {},
   "source": [
    "## データのセット"
   ]
  },
  {
   "cell_type": "markdown",
   "metadata": {},
   "source": [
    "** 訓練集合(X, y) **,**  交差検証集合(Xval, yval) **, ** テスト集合(Xtest, ytest) **としてそれぞれ6:2:2程度の分量に`data`を分割しておきます。視覚的に状況を分かりやすくするため、訓練例は30個程度に絞ります。\n",
    "\n",
    "今回はインデックスを再現できるように手動で分割しますが、実践の場面でランダム化したうえ分割する場合、`sklearn.model_selection.train_test_split()`関数を使うと便利でしょう。\n",
    "\n",
    "参考：[scikit-learnチュートリアル sklearn.model_selection.train_test_split](http://scikit-learn.org/stable/modules/generated/sklearn.model_selection.train_test_split.html)"
   ]
  },
  {
   "cell_type": "code",
   "execution_count": 8,
   "metadata": {
    "collapsed": true
   },
   "outputs": [],
   "source": [
    "#訓練集合\n",
    "X = data[shuffle_idx[:30],0]\n",
    "y = data[shuffle_idx[:30],1]\n",
    "#交差検証集合\n",
    "Xcv = data[shuffle_idx[30:40],0]\n",
    "ycv = data[shuffle_idx[30:40],1]\n",
    "#テスト集合\n",
    "Xtest = data[shuffle_idx[40:50],0]\n",
    "ytest = data[shuffle_idx[40:50],1]"
   ]
  },
  {
   "cell_type": "code",
   "execution_count": 9,
   "metadata": {
    "collapsed": false
   },
   "outputs": [
    {
     "name": "stdout",
     "output_type": "stream",
     "text": [
      "訓練集合 Xの個数: 30\n",
      "交差検証集合 Xcvの個数: 10\n",
      "テスト集合 Xtestの個数: 10\n"
     ]
    }
   ],
   "source": [
    "print(\"訓練集合 Xの個数:\", X.shape[0])\n",
    "print(\"交差検証集合 Xcvの個数:\", Xcv.shape[0])\n",
    "print(\"テスト集合 Xtestの個数:\", Xtest.shape[0])"
   ]
  },
  {
   "cell_type": "code",
   "execution_count": 10,
   "metadata": {
    "collapsed": true
   },
   "outputs": [],
   "source": [
    "m = X.shape[0] #訓練例の数はm\n",
    "m_cv = Xcv.shape[0] #交差検証例の数はm_val"
   ]
  },
  {
   "cell_type": "code",
   "execution_count": 11,
   "metadata": {
    "collapsed": false
   },
   "outputs": [
    {
     "name": "stdout",
     "output_type": "stream",
     "text": [
      "訓練例の数: 30\n",
      "交差検証例の数: 10\n"
     ]
    }
   ],
   "source": [
    "print(\"訓練例の数:\", m)\n",
    "print(\"交差検証例の数:\",  m_cv)"
   ]
  },
  {
   "cell_type": "markdown",
   "metadata": {},
   "source": [
    "## データのプロット"
   ]
  },
  {
   "cell_type": "markdown",
   "metadata": {},
   "source": [
    "**【課題１】** 訓練例と交差検証例をプロットする関数`plotData(X, y, Xcv, ycv)`を書きましょう。訓練例と交差検証例は区別するために色を指定しましょう。\n",
    "\n",
    "参考：[matplotlob 公式チュートリアル matplotlib.pyplot.scatter](http://matplotlib.org/api/pyplot_api.html#matplotlib.pyplot.scatter)\n",
    "\n",
    "- matplotlib.pyplot.scatterで散布図を表示します。"
   ]
  },
  {
   "cell_type": "code",
   "execution_count": 12,
   "metadata": {
    "collapsed": true
   },
   "outputs": [],
   "source": [
    "#Coursemale-02 Step5 QuestionNumber1 80169b532acc39bd775f6da53633c5ed\n",
    "def plotData(X, y, Xcv, ycv):\n",
    "###############ここを穴埋めしてください###############\n",
    "    plt.scatter(X, y, c=\"b\", label=u'訓練データ')\n",
    "    plt.scatter(Xcv, ycv, c=\"r\", label=u'交差検証データ')\n",
    "    plt.xlim([-5,5])\n",
    "    plt.ylim([-1,5])\n",
    "    plt.legend(loc=\"upper left\")\n",
    "    plt.draw()    \n",
    " \n",
    "######################################################"
   ]
  },
  {
   "cell_type": "markdown",
   "metadata": {},
   "source": [
    "左上の**保存マークをクリックした後**、次のセルをShift+Enterで実行して採点します。"
   ]
  },
  {
   "cell_type": "code",
   "execution_count": 13,
   "metadata": {
    "collapsed": false
   },
   "outputs": [
    {
     "name": "stdout",
     "output_type": "stream",
     "text": [
      "Congratulations!\n",
      "We give you 10 points out of 10 points.\n",
      "\n"
     ]
    }
   ],
   "source": [
    "%%bash\n",
    "./validation_client.py male-02 5 1 Step5_01.ipynb api.internal.zero2one.jp"
   ]
  },
  {
   "cell_type": "code",
   "execution_count": 14,
   "metadata": {
    "collapsed": false
   },
   "outputs": [
    {
     "data": {
      "image/png": "[encoded data removed]",
      "text/plain": [
       "<matplotlib.figure.Figure at 0x7f839354ffd0>"
      ]
     },
     "metadata": {},
     "output_type": "display_data"
    }
   ],
   "source": [
    "plotData(X, y, Xcv, ycv)"
   ]
  },
  {
   "cell_type": "markdown",
   "metadata": {},
   "source": [
    "## 正則化線形回帰の目的関数"
   ]
  },
  {
   "cell_type": "markdown",
   "metadata": {},
   "source": [
    "正則化された線形回帰の目的関数を実装します。その前に、パラメータ$\\theta$を初期化し、正則化パラメータラムダは１にします。"
   ]
  },
  {
   "cell_type": "code",
   "execution_count": 15,
   "metadata": {
    "collapsed": true
   },
   "outputs": [],
   "source": [
    "theta = np.ones(2) # thetaは1-dim\n",
    "lmd = 1"
   ]
  },
  {
   "cell_type": "markdown",
   "metadata": {},
   "source": [
    "**【課題２】** 正則化された線形回帰の目的関数`linearRegCostFunction(theta, X, y, lmd)`を実装しましょう。`XwithBias`は`X`にバイアスを付加したものとします。\n",
    "\n",
    "$$J(\\theta_0, \\theta_1) = \\frac{1}{2m}\\sum^{m}_{i=1}(h_{\\boldsymbol{\\theta}}(x^{(i)})-y^{(i)})^2  + \\frac{\\lambda}{2m}\\sum^{n}_{j=1}\\theta_j^2$$"
   ]
  },
  {
   "cell_type": "markdown",
   "metadata": {},
   "source": [
    "** Note： **<br>\n",
    "- $\\theta_0$はバイアス項のため正則化を行いません。"
   ]
  },
  {
   "cell_type": "code",
   "execution_count": 55,
   "metadata": {
    "collapsed": true
   },
   "outputs": [],
   "source": [
    "#Coursemale-02 Step5 QuestionNumber2 0b69f3cd01c23b78867e8f34b3b9d5a2\n",
    "def linearRegCostFunction(theta, XwithBias, y, lmd):\n",
    "###############ここを穴埋めしてください###############\n",
    "    m = y.size\n",
    "    J = ((np.dot(XwithBias, theta.T) - y)**2).sum() / (2*m) + (lmd / (2*m)) * (theta[1:]**2).sum()\n",
    "    return J\n",
    "######################################################"
   ]
  },
  {
   "cell_type": "markdown",
   "metadata": {},
   "source": [
    "左上の**保存マークをクリックした後**、次のセルをShift+Enterで実行して採点します。"
   ]
  },
  {
   "cell_type": "code",
   "execution_count": 56,
   "metadata": {
    "collapsed": false
   },
   "outputs": [
    {
     "name": "stdout",
     "output_type": "stream",
     "text": [
      "Congratulations!\n",
      "We give you 10 points out of 10 points.\n",
      "\n"
     ]
    }
   ],
   "source": [
    "%%bash\n",
    "./validation_client.py male-02 5 2 Step5_01.ipynb api.internal.zero2one.jp"
   ]
  },
  {
   "cell_type": "markdown",
   "metadata": {},
   "source": [
    "念のためちゃんと走るか確認してみましょう。（正しい答えかどうかは分からない）"
   ]
  },
  {
   "cell_type": "code",
   "execution_count": 57,
   "metadata": {
    "collapsed": false
   },
   "outputs": [],
   "source": [
    "J = linearRegCostFunction(theta, np.c_[np.ones([m,1]),X], y, lmd) # Xはバイアスをつけた状態で渡す"
   ]
  },
  {
   "cell_type": "code",
   "execution_count": 58,
   "metadata": {
    "collapsed": false
   },
   "outputs": [
    {
     "name": "stdout",
     "output_type": "stream",
     "text": [
      "thetaが[1, 1]のときのコストJは 0.7270372836123554\n"
     ]
    }
   ],
   "source": [
    "print(\"thetaが[1, 1]のときのコストJは\", J)"
   ]
  },
  {
   "cell_type": "markdown",
   "metadata": {},
   "source": [
    "## 正則化線形回帰の目的関数の勾配(gradient)"
   ]
  },
  {
   "cell_type": "markdown",
   "metadata": {},
   "source": [
    "**【課題３】** 正則化された線形回帰の目的関数の勾配`linearRegGrad(theta, XwithBias, y, lmd)`を実装しましょう。`XwithBias`は`X`にバイアスを付加したものとします。\n",
    "\n",
    "$$\\frac{\\partial}{\\partial \\theta_j}J(\\boldsymbol{\\theta})=\\frac{1}{m}\\sum_{i=1}^{m}(h_{\\boldsymbol{\\theta}}(x^{(i)})-y^{(i)})x^{(i)} +  \\frac{\\lambda}{m}\\sum^{n}_{j=1}\\theta_j$$"
   ]
  },
  {
   "cell_type": "markdown",
   "metadata": {},
   "source": [
    "パラメータ$\\theta_{0},\\theta_{1}$に関数する勾配は次のようになります。\n",
    "\n",
    "$$\\frac{\\partial}{\\partial \\theta_0}J(\\boldsymbol{\\theta_0})=\\frac{1}{m}\\sum_{i=1}^{m}(h_{\\theta}(x^{(i)})-y^{(i)})x_{0}^{(i)}$$\n",
    "$$\\frac{\\partial}{\\partial \\theta_1}J(\\boldsymbol{\\theta_1})=\\frac{1}{m}\\sum_{i=1}^{m}(h_{\\theta}(x^{(i)})-y^{(i)})x_{1}^{(i)}+\\frac{\\lambda}{m}{\\theta_1}$$"
   ]
  },
  {
   "cell_type": "code",
   "execution_count": 59,
   "metadata": {
    "collapsed": true
   },
   "outputs": [],
   "source": [
    "#Coursemale-02 Step5 QuestionNumber3 dbee1c36b59a507128480539e13a164d\n",
    "def linearRegGrad(theta, XwithBias, y, lmd):\n",
    "###############ここを穴埋めしてください###############\n",
    "    m = y.size\n",
    "    grad = XwithBias.T.dot(np.dot(XwithBias, theta) - y) / m + (lmd / m) * np.r_[0, theta[1:]]\n",
    "    return grad\n",
    "######################################################"
   ]
  },
  {
   "cell_type": "markdown",
   "metadata": {},
   "source": [
    "左上の**保存マークをクリックした後**、次のセルをShift+Enterで実行して採点します。"
   ]
  },
  {
   "cell_type": "code",
   "execution_count": 60,
   "metadata": {
    "collapsed": false
   },
   "outputs": [
    {
     "name": "stdout",
     "output_type": "stream",
     "text": [
      "ExcessiveAccess: Wait for 10 minutes\n",
      "Error regarding to send score\n",
      "\n"
     ]
    }
   ],
   "source": [
    "%%bash\n",
    "./validation_client.py male-02 5 3 Step5_01.ipynb api.internal.zero2one.jp"
   ]
  },
  {
   "cell_type": "markdown",
   "metadata": {},
   "source": [
    "念のためちゃんと走るか確認してみましょう。（正しい答えかどうかは分からない）"
   ]
  },
  {
   "cell_type": "code",
   "execution_count": 61,
   "metadata": {
    "collapsed": false
   },
   "outputs": [],
   "source": [
    "grad = linearRegGrad(theta, np.c_[np.ones([m,1]),X], y, lmd) # Xはバイアスつけた状態で渡す"
   ]
  },
  {
   "cell_type": "code",
   "execution_count": 62,
   "metadata": {
    "collapsed": false
   },
   "outputs": [
    {
     "name": "stdout",
     "output_type": "stream",
     "text": [
      "thetaが[1, 1]のときの目的関数のgradは [0.13541991 1.92030114]\n"
     ]
    }
   ],
   "source": [
    "print(\"thetaが[1, 1]のときの目的関数のgradは\", grad)"
   ]
  },
  {
   "cell_type": "markdown",
   "metadata": {},
   "source": [
    "## 線形回帰の学習"
   ]
  },
  {
   "cell_type": "markdown",
   "metadata": {},
   "source": [
    "**【課題４】** 線形回帰モデルをつかって学習する関数`trainLinearReg(X, y, lmd)`を実装しましょう。`XwithBias`は`X`にバイアスを付加したものとします。返値はパラメータの配列`theta`になるようにしてください。"
   ]
  },
  {
   "cell_type": "markdown",
   "metadata": {},
   "source": [
    "**【Note】**\n",
    "- わからない部分はヒントを参考にしてください。\n",
    "- **最適化**はSciPyのアルゴリズムで実装します。詳細は「Step3演習02 勾配法による最適化」で詳しく紹介しています。"
   ]
  },
  {
   "cell_type": "code",
   "execution_count": 63,
   "metadata": {
    "collapsed": true
   },
   "outputs": [],
   "source": [
    "#Coursemale-02 Step5 QuestionNumber4 e004d9191eca1eddf8ce00f496038bc6\n",
    "def trainLinearReg(XwithBias, y, lmd):\n",
    "###############ここを穴埋めしてください###############\n",
    "    m, n = XwithBias.shape # Xはここではバイアス項を付け加えているので2-dim\n",
    "\n",
    "    # thetaの初期化\n",
    "    #initial_thetaは1-dim\n",
    "    initial_theta = np.zeros(n)\n",
    "\n",
    "    # 最適化する変数以外は固定 \n",
    "    cost_fixed = partial(linearRegCostFunction, XwithBias=XwithBias, y=y, lmd=lmd) #functools\n",
    "    grad_fixed = partial(linearRegGrad, XwithBias=XwithBias, y=y, lmd=lmd) #functools\n",
    "\n",
    "    # 最適化\n",
    "    res = scopt.minimize(cost_fixed, initial_theta, method='BFGS', jac=grad_fixed)\n",
    "\n",
    "    return res.x\n",
    "######################################################"
   ]
  },
  {
   "cell_type": "markdown",
   "metadata": {},
   "source": [
    "左上の**保存マークをクリックした後**、次のセルをShift+Enterで実行して採点します。"
   ]
  },
  {
   "cell_type": "code",
   "execution_count": 64,
   "metadata": {
    "collapsed": false
   },
   "outputs": [
    {
     "name": "stdout",
     "output_type": "stream",
     "text": [
      "Congratulations!\n",
      "We give you 10 points out of 10 points.\n",
      "\n"
     ]
    }
   ],
   "source": [
    "%%bash\n",
    "./validation_client.py male-02 5 4 Step5_01.ipynb api.internal.zero2one.jp"
   ]
  },
  {
   "cell_type": "markdown",
   "metadata": {},
   "source": [
    "線形回帰を正則化なし(lmd=0)で学習させます。"
   ]
  },
  {
   "cell_type": "code",
   "execution_count": 65,
   "metadata": {
    "collapsed": true
   },
   "outputs": [],
   "source": [
    "lmd = 0"
   ]
  },
  {
   "cell_type": "code",
   "execution_count": 66,
   "metadata": {
    "collapsed": true
   },
   "outputs": [],
   "source": [
    "theta = trainLinearReg(np.c_[np.ones([m,1]),X], y, lmd)"
   ]
  },
  {
   "cell_type": "markdown",
   "metadata": {},
   "source": [
    "学習済みのパラメータを用いてグラフをプロットします。"
   ]
  },
  {
   "cell_type": "code",
   "execution_count": 67,
   "metadata": {
    "collapsed": true
   },
   "outputs": [],
   "source": [
    "def plotDataWithLine(X, y, Xcv, ycv, theta):\n",
    "    #課題１で実装してもらった関数です\n",
    "    plotData(X, y, Xcv, ycv)\n",
    "    \n",
    "    #このセル内で直前にプロットしたものに上書きしていきます\n",
    "    plt.hold(True)\n",
    "    \n",
    "    #得られたthetaをもとにグラフの画面の端と端をプロットしてその間に直線で引くことで、回帰直線を掃引します。\n",
    "    plt.plot([-5, 5], [(-5)*theta[1]+theta[0], 5*theta[1]+theta[0]], label=u'線形回帰') \n",
    "    \n",
    "    #念のため、グラフの端をもう一度指定しておきます。\n",
    "    plt.xlim([-5,5])\n",
    "    plt.ylim([-1,5])\n",
    "    \n",
    "    #凡例を入れます。\n",
    "    plt.legend(loc=\"upper left\")\n",
    "    \n",
    "    plt.show()"
   ]
  },
  {
   "cell_type": "code",
   "execution_count": 68,
   "metadata": {
    "collapsed": false,
    "scrolled": true
   },
   "outputs": [
    {
     "data": {
      "image/png": "[encoded data removed]",
      "text/plain": [
       "<matplotlib.figure.Figure at 0x7f83ba3a0f98>"
      ]
     },
     "metadata": {},
     "output_type": "display_data"
    }
   ],
   "source": [
    "plotDataWithLine(X, y, Xcv, ycv, theta)"
   ]
  },
  {
   "cell_type": "markdown",
   "metadata": {},
   "source": [
    "現時点でもアンダーフィッティングしている（高バイアスである）ことがわかります。\n",
    "\n",
    "正則化パラメータを極端に大きくすると（例えば lmd = 100000）、さらにアンダーフィッティング傾向が強まることを各自確認しましょう。"
   ]
  },
  {
   "cell_type": "markdown",
   "metadata": {},
   "source": [
    "## 学習曲線"
   ]
  },
  {
   "cell_type": "markdown",
   "metadata": {},
   "source": [
    "横軸に学習させた訓練例の個数、縦軸に学習誤差と交差検証誤差をプロットしたものを学習曲線というのでした。これを使ってアンダーフィッティングやオーバーフィッティングを見分けましょう。\n",
    "\n",
    "**【課題５】** 学習曲線をプロットするための、学習誤差と交差検証誤差を出力する関数`learningCurve(XwithBias, y, XcvWithBias, ycv, lmd)`を書きましょう。なお、返値である学習誤差と交差検証誤差は、それぞれ訓練例の個数分の要素を持った1次元配列とします。以下を穴埋めしていきましょう。"
   ]
  },
  {
   "cell_type": "code",
   "execution_count": 69,
   "metadata": {
    "collapsed": true
   },
   "outputs": [],
   "source": [
    "#Coursemale-02 Step5 QuestionNumber5 39efc12857ad9120a60291e7ffeb4b80\n",
    "def learningCurve(XwithBias, y, XcvWithBias, ycv, lmd):\n",
    "    m, n = XwithBias.shape # ここのXは2-dim\n",
    "    m_cv, n_cv = XcvWithBias.shape\n",
    "\n",
    "    error_train = np.empty(m)\n",
    "    error_cv = np.empty(m)\n",
    "\n",
    "###############ここを穴埋めしてください###############\n",
    "    for i in range(m):\n",
    "        theta = trainLinearReg(XwithBias[:i+1], y[:i+1], lmd)\n",
    "        error_train[i] = ((XwithBias[:i+1].dot(theta)-y[:i+1])**2).sum() / (2*(i+1))\n",
    "        error_cv[i] = ((XcvWithBias.dot(theta)-ycv)**2).sum() / (2*m_cv)\n",
    "######################################################\n",
    "        \n",
    "    return [error_train, error_cv]"
   ]
  },
  {
   "cell_type": "markdown",
   "metadata": {},
   "source": [
    "左上の**保存マークをクリックした後**、次のセルをShift+Enterで実行して採点します。"
   ]
  },
  {
   "cell_type": "code",
   "execution_count": 70,
   "metadata": {
    "collapsed": false
   },
   "outputs": [
    {
     "name": "stdout",
     "output_type": "stream",
     "text": [
      "Congratulations!\n",
      "We give you 10 points out of 10 points.\n",
      "\n"
     ]
    }
   ],
   "source": [
    "%%bash\n",
    "./validation_client.py male-02 5 5 Step5_01.ipynb api.internal.zero2one.jp"
   ]
  },
  {
   "cell_type": "markdown",
   "metadata": {},
   "source": [
    "---\n",
    "**【課題５別解】（参考）**\n",
    "\n",
    "この課題については参考として、内包表記を用いた解答例を載せておきます。"
   ]
  },
  {
   "cell_type": "code",
   "execution_count": 71,
   "metadata": {
    "collapsed": true
   },
   "outputs": [],
   "source": [
    "def learningCurve(XwithBias, y, XcvWithBias, ycv, lmd):\n",
    "    theta = np.array([trainLinearReg(XwithBias[:i+1], y[:i+1], lmd) for i in range(XwithBias.shape[0])])\n",
    "    return np.array([[((XwithBias[:i+1].dot(theta[i])-y[:i+1])**2).sum() / (2*(i+1)), \\\n",
    "                     ((XcvWithBias.dot(theta[i])-ycv)**2).sum() / (2*XcvWithBias.shape[0])] for i in range(XwithBias.shape[0])]).T"
   ]
  },
  {
   "cell_type": "markdown",
   "metadata": {},
   "source": [
    "---"
   ]
  },
  {
   "cell_type": "code",
   "execution_count": 72,
   "metadata": {
    "collapsed": true
   },
   "outputs": [],
   "source": [
    "# XとXvalはバイアスつけた状態で渡す\n",
    "error_train, error_cv = learningCurve(np.c_[np.ones([m,1]),X], y, np.c_[np.ones([m_cv,1]), Xcv], ycv, lmd)"
   ]
  },
  {
   "cell_type": "code",
   "execution_count": 73,
   "metadata": {
    "collapsed": true
   },
   "outputs": [],
   "source": [
    "def plotLearningCurve(error_train, error_cv):\n",
    "    plt.plot(range(1,m+1), error_train, label=u\"訓練集合\")\n",
    "    plt.plot(range(1,m+1), error_cv, label=u\"交差検証集合\")\n",
    "    plt.legend(loc=\"best\")\n",
    "    plt.title(u\"線形回帰の学習曲線\")\n",
    "    plt.xlabel(u\"訓練例の数\")\n",
    "    plt.ylabel(u\"誤差\")\n",
    "    plt.ylim([0, 0.4])\n",
    "    plt.draw()"
   ]
  },
  {
   "cell_type": "code",
   "execution_count": 74,
   "metadata": {
    "collapsed": false,
    "scrolled": true
   },
   "outputs": [
    {
     "data": {
      "image/png": "[encoded data removed]",
      "text/plain": [
       "<matplotlib.figure.Figure at 0x7f83ba4b2d30>"
      ]
     },
     "metadata": {},
     "output_type": "display_data"
    }
   ],
   "source": [
    "plotLearningCurve(error_train, error_cv)"
   ]
  },
  {
   "cell_type": "markdown",
   "metadata": {},
   "source": [
    "訓練集合と交差検証集合の開きは徐々になくなっていますが、誤差はかなり高めです。\n",
    "\n",
    "アンダーフィッティングしている可能性があることをこのグラフから感じ取って下さい。\n",
    "\n",
    "念のため結果の数字を一覧すると、"
   ]
  },
  {
   "cell_type": "code",
   "execution_count": 75,
   "metadata": {
    "collapsed": false
   },
   "outputs": [
    {
     "name": "stdout",
     "output_type": "stream",
     "text": [
      "訓練例\t学習誤差\t交差検証誤差\n",
      "1\t0.00000000\t1.27878282\n",
      "2\t0.00000000\t3.51212524\n",
      "3\t0.21138225\t0.26493007\n",
      "4\t0.15870733\t0.27216964\n",
      "5\t0.21875317\t0.33452374\n",
      "6\t0.20274885\t0.35078881\n",
      "7\t0.22400597\t0.42598839\n",
      "8\t0.20034254\t0.44700349\n",
      "9\t0.19072057\t0.49841247\n",
      "10\t0.19541497\t0.38554669\n",
      "11\t0.19350597\t0.35223032\n",
      "12\t0.18352603\t0.35170627\n",
      "13\t0.17229018\t0.33608805\n",
      "14\t0.16444138\t0.34207928\n",
      "15\t0.15490137\t0.34080917\n",
      "16\t0.14531298\t0.34153584\n",
      "17\t0.14657393\t0.31475212\n",
      "18\t0.14970840\t0.31235615\n",
      "19\t0.14545523\t0.32284300\n",
      "20\t0.13983305\t0.32967568\n",
      "21\t0.13837905\t0.32733903\n",
      "22\t0.15112796\t0.29630724\n",
      "23\t0.14494354\t0.29651753\n",
      "24\t0.14939919\t0.30780913\n",
      "25\t0.19159555\t0.26846663\n",
      "26\t0.19533595\t0.26131076\n",
      "27\t0.20957286\t0.24833908\n",
      "28\t0.20270188\t0.24677189\n",
      "29\t0.19571833\t0.24659199\n",
      "30\t0.18986441\t0.24818306\n"
     ]
    }
   ],
   "source": [
    "print(\"訓練例\\t学習誤差\\t交差検証誤差\")\n",
    "for i in range(m):\n",
    "    print(i+1, end=\"\")\n",
    "    print(\"\\t\", end=\"\")\n",
    "    print(\"%0.8f\"%error_train[i], end=\"\")\n",
    "    print(\"\\t\", end=\"\")\n",
    "    print(\"%0.8f\"%error_cv[i])"
   ]
  },
  {
   "cell_type": "code",
   "execution_count": null,
   "metadata": {
    "collapsed": true
   },
   "outputs": [],
   "source": []
  }
 ],
 "metadata": {
  "anaconda-cloud": {},
  "kernelspec": {
   "display_name": "Python [default]",
   "language": "python",
   "name": "python3"
  },
  "language_info": {
   "codemirror_mode": {
    "name": "ipython",
    "version": 3
   },
   "file_extension": ".py",
   "mimetype": "text/x-python",
   "name": "python",
   "nbconvert_exporter": "python",
   "pygments_lexer": "ipython3",
   "version": "3.5.2"
  },
  "toc": {
   "nav_menu": {
    "height": "179px",
    "width": "252px"
   },
   "navigate_menu": true,
   "number_sections": true,
   "sideBar": true,
   "threshold": 4,
   "toc_cell": false,
   "toc_section_display": "block",
   "toc_window_display": true
  }
 },
 "nbformat": 4,
 "nbformat_minor": 1
}
