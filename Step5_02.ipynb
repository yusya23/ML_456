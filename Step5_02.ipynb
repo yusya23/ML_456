{
 "cells": [
  {
   "cell_type": "markdown",
   "metadata": {},
   "source": [
    "# Step5 演習02 アンダーフィッティングとオーバーフィッティング\n",
    "---"
   ]
  },
  {
   "cell_type": "markdown",
   "metadata": {},
   "source": [
    "Step5ではアンダーフィッティングとオーバーフィッティングの見分け方と対策法を学習します。今回は線形回帰の例を用います。\n",
    "\n",
    "**はじめに**\n",
    "- for文やwhile文の利用は明示的な利用指示がない場所での使用は避けてください。\n",
    "\n",
    "**本演習の目的**\n",
    "- アンダーフィッティングとオーバーフィッティングの見分け方や対策方法を学ぶ。"
   ]
  },
  {
   "cell_type": "markdown",
   "metadata": {},
   "source": [
    "## ライブラリのインポート\n",
    "\n",
    "まずはじめに、利用するライブラリのインポートを行います。\n",
    "\n",
    "- [numpy](http://www.numpy.org) 数値計算を行うための基本パッケージの公式ドキュメント\n",
    "- [matplotlib](http://matplotlib.org) グラフ描画ライブラリの基本パッケージの公式ドキュメント\n",
    "- [SciPy](https://docs.scipy.org/doc/) 数値解析ライブラリの基本パッケージの公式ドキュメント\n",
    "\n",
    "ドキュメントには有用な情報が書き記されています。何か迷ったときには必ずドキュメントに戻ってくるようにしましょう。\n",
    "\n",
    "次のセルをそのまま実行（\"SHIFT\" + \"ENTER\"）してください。コードが書いてあるセルは**上から順番に**順次実行してください。\n",
    "\n",
    "** 注意： **初めてmatplotlibを使うユーザーは、フォント一覧のキャッシュが存在しないため、このセルの実行でWarningが出ます。もう一度実行すると、すでにキャッシュができているので、Warningなく走ります。"
   ]
  },
  {
   "cell_type": "code",
   "execution_count": 1,
   "metadata": {
    "collapsed": true
   },
   "outputs": [],
   "source": [
    "%matplotlib inline\n",
    "import numpy as np\n",
    "import matplotlib.pyplot as plt\n",
    "import scipy.optimize as scopt\n",
    "from functools import partial #関数の一部の引数を固定するのに使う\n",
    "import os\n",
    "font = {'family':'IPAexGothic'}\n",
    "plt.rc('font', **font)"
   ]
  },
  {
   "cell_type": "markdown",
   "metadata": {},
   "source": [
    "## サンプルデータのロードとインデックスの生成"
   ]
  },
  {
   "cell_type": "markdown",
   "metadata": {},
   "source": [
    "サンプルデータをロードします。線形関数ではフィッティングできないものの、さほど複雑ではない分布をしているデータが格納されています。"
   ]
  },
  {
   "cell_type": "code",
   "execution_count": 2,
   "metadata": {
    "collapsed": true
   },
   "outputs": [],
   "source": [
    "data = np.loadtxt(\"./dataStep5/dataStep5.csv\", delimiter=\",\")\n",
    "data_m, data_n = data.shape"
   ]
  },
  {
   "cell_type": "markdown",
   "metadata": {},
   "source": [
    "各訓練例をシャッフルしてインデックスをつけておきます。扱う訓練例が少ないため、人為的に選んだインデックスを使います。"
   ]
  },
  {
   "cell_type": "code",
   "execution_count": 3,
   "metadata": {
    "collapsed": true
   },
   "outputs": [],
   "source": [
    "if os.path.isfile(\"./dataStep5/dataStep5_shuffle_idx.csv\") == True:\n",
    "    shuffle_idx = np.loadtxt(\"./dataStep5/dataStep5_shuffle_idx.csv\", delimiter = \",\", dtype=np.uint8)\n",
    "\n",
    "else:\n",
    "    shuffle_idx =  np.random.permutation(data_m)\n",
    "    np.savetxt(\"./dataStep5/dataStep5_shuffle_idx.csv\", shuffle_idx, delimiter=\",\", fmt = \"%d\")"
   ]
  },
  {
   "cell_type": "markdown",
   "metadata": {},
   "source": [
    "上のセルを実行したことによりデータセットを \"data\" に格納しました。下のセルを実行して、dataのshapeを確認しましょう。"
   ]
  },
  {
   "cell_type": "code",
   "execution_count": 4,
   "metadata": {
    "collapsed": false
   },
   "outputs": [
    {
     "data": {
      "text/plain": [
       "(200, 2)"
      ]
     },
     "execution_count": 4,
     "metadata": {},
     "output_type": "execute_result"
    }
   ],
   "source": [
    "data.shape"
   ]
  },
  {
   "cell_type": "markdown",
   "metadata": {},
   "source": [
    "(200,2)と表示されたはずです。今回使うデータセットは200行2列の行列がdataに格納されています。"
   ]
  },
  {
   "cell_type": "markdown",
   "metadata": {},
   "source": [
    "## データのセット"
   ]
  },
  {
   "cell_type": "markdown",
   "metadata": {},
   "source": [
    "** 訓練集合(X, y) **,**  交差検証集合(Xval, yval) **, ** テスト集合(Xtest, ytest) **としてそれぞれ6:2:2程度の分量に`data`を分割しておきます。視覚的に状況を分かりやすくするため、訓練例は30個程度に絞ります。\n",
    "\n",
    "今回はインデックスを再現できるように手動で分割しますが、実践の場面でランダム化したうえ分割する場合、`sklearn.model_selection.train_test_split()`関数を使うと便利でしょう。\n",
    "\n",
    "参考：[scikit-learnチュートリアル sklearn.model_selection.train_test_split](http://scikit-learn.org/stable/modules/generated/sklearn.model_selection.train_test_split.html)"
   ]
  },
  {
   "cell_type": "code",
   "execution_count": 5,
   "metadata": {
    "collapsed": true
   },
   "outputs": [],
   "source": [
    "X = data[shuffle_idx[:30],0]\n",
    "y = data[shuffle_idx[:30],1]\n",
    "Xcv = data[shuffle_idx[30:40],0]\n",
    "ycv = data[shuffle_idx[30:40],1]\n",
    "Xtest = data[shuffle_idx[40:50],0]\n",
    "ytest = data[shuffle_idx[40:50],1]"
   ]
  },
  {
   "cell_type": "code",
   "execution_count": 6,
   "metadata": {
    "collapsed": false
   },
   "outputs": [
    {
     "name": "stdout",
     "output_type": "stream",
     "text": [
      "Xの個数: 30\n",
      "Xcvの個数: 10\n",
      "Xtestの個数: 10\n"
     ]
    }
   ],
   "source": [
    "print(\"Xの個数:\", X.shape[0])\n",
    "print(\"Xcvの個数:\", Xcv.shape[0])\n",
    "print(\"Xtestの個数:\", Xtest.shape[0])"
   ]
  },
  {
   "cell_type": "code",
   "execution_count": 7,
   "metadata": {
    "collapsed": true
   },
   "outputs": [],
   "source": [
    "m = X.shape[0] #訓練例の数はm\n",
    "m_cv = Xcv.shape[0] #交差検証例の数はm_val"
   ]
  },
  {
   "cell_type": "code",
   "execution_count": 8,
   "metadata": {
    "collapsed": false
   },
   "outputs": [
    {
     "name": "stdout",
     "output_type": "stream",
     "text": [
      "訓練例の数: 30\n",
      "交差検証例の数: 10\n"
     ]
    }
   ],
   "source": [
    "print(\"訓練例の数:\", m)\n",
    "print(\"交差検証例の数:\",  m_cv)"
   ]
  },
  {
   "cell_type": "markdown",
   "metadata": {},
   "source": [
    "## データのプロット"
   ]
  },
  {
   "cell_type": "markdown",
   "metadata": {},
   "source": [
    "**【課題１】** 訓練例と交差検証例をプロットする関数`plotData(X, y, Xcv, ycv)`を書きましょう。訓練例と交差検証例は区別するために色を指定しましょう。（Step5_01の課題１と同じ課題です。）\n",
    "\n",
    "参考：[matplotlob 公式チュートリアル matplotlib.pyplot.scatter](http://matplotlib.org/api/pyplot_api.html#matplotlib.pyplot.scatter)"
   ]
  },
  {
   "cell_type": "code",
   "execution_count": 9,
   "metadata": {
    "collapsed": true
   },
   "outputs": [],
   "source": [
    "#Coursemale-02 Step5 QuestionNumber1 80169b532acc39bd775f6da53633c5ed\n",
    "def plotData(X, y, Xcv, ycv):\n",
    "###############ここを穴埋めしてください###############\n",
    "    plt.scatter(X, y, c=\"b\", label=u'訓練データ')\n",
    "    plt.scatter(Xcv, ycv, c=\"r\", label=u'交差検証データ')\n",
    "    plt.xlim([-5,5])\n",
    "    plt.ylim([-1,5])\n",
    "    plt.legend(loc=\"upper left\")\n",
    "    plt.draw()  \n",
    "   \n",
    "######################################################"
   ]
  },
  {
   "cell_type": "markdown",
   "metadata": {},
   "source": [
    "左上の**保存マークをクリックした後**、次のセルをShift+Enterで実行して採点します。"
   ]
  },
  {
   "cell_type": "code",
   "execution_count": 10,
   "metadata": {
    "collapsed": false
   },
   "outputs": [
    {
     "name": "stdout",
     "output_type": "stream",
     "text": [
      "Congratulations!\n",
      "We give you 10 points out of 10 points.\n",
      "\n"
     ]
    }
   ],
   "source": [
    "%%bash\n",
    "./validation_client.py male-02 5 1 Step5_02.ipynb api.internal.zero2one.jp"
   ]
  },
  {
   "cell_type": "code",
   "execution_count": 11,
   "metadata": {
    "collapsed": false
   },
   "outputs": [
    {
     "data": {
      "image/png": "[encoded data removed]",
      "text/plain": [
       "<matplotlib.figure.Figure at 0x7fe544824dd8>"
      ]
     },
     "metadata": {},
     "output_type": "display_data"
    }
   ],
   "source": [
    "plotData(X, y, Xcv, ycv)"
   ]
  },
  {
   "cell_type": "markdown",
   "metadata": {},
   "source": [
    "## 正則化線形回帰の目的関数"
   ]
  },
  {
   "cell_type": "markdown",
   "metadata": {},
   "source": [
    "正則化された線形回帰の目的関数を実装します。その前に、パラメータ$\\theta$を初期化し、正則化パラメータラムダは１にします。"
   ]
  },
  {
   "cell_type": "code",
   "execution_count": 12,
   "metadata": {
    "collapsed": true
   },
   "outputs": [],
   "source": [
    "theta = np.ones(2) # thetaは1-dim\n",
    "lmd = 1"
   ]
  },
  {
   "cell_type": "markdown",
   "metadata": {},
   "source": [
    "**【課題２】** 正則化された線形回帰の目的関数`linearRegCostFunction(theta, X, y, lmd)`を実装しましょう。`XwithBias`は`X`にバイアスを付加したものとします。（Step5_01の課題２と同じ課題です。）"
   ]
  },
  {
   "cell_type": "code",
   "execution_count": 13,
   "metadata": {
    "collapsed": true
   },
   "outputs": [],
   "source": [
    "#Coursemale-02 Step5 QuestionNumber2 0b69f3cd01c23b78867e8f34b3b9d5a2\n",
    "def linearRegCostFunction(theta, XwithBias, y, lmd):\n",
    "###############ここを穴埋めしてください###############\n",
    "    m = y.size\n",
    "    J = ((np.dot(XwithBias, theta.T) - y)**2).sum() / (2*m) + (lmd / (2*m)) * (theta[1:]**2).sum()\n",
    "    return J\n",
    "######################################################"
   ]
  },
  {
   "cell_type": "markdown",
   "metadata": {},
   "source": [
    "左上の**保存マークをクリックした後**、次のセルをShift+Enterで実行して採点します。"
   ]
  },
  {
   "cell_type": "code",
   "execution_count": 14,
   "metadata": {
    "collapsed": false
   },
   "outputs": [
    {
     "name": "stdout",
     "output_type": "stream",
     "text": [
      "Congratulations!\n",
      "We give you 10 points out of 10 points.\n",
      "\n"
     ]
    }
   ],
   "source": [
    "%%bash\n",
    "./validation_client.py male-02 5 2 Step5_02.ipynb api.internal.zero2one.jp"
   ]
  },
  {
   "cell_type": "markdown",
   "metadata": {},
   "source": [
    "念のためちゃんと走るか確認してみましょう。（正しい答えかどうかは分からない）"
   ]
  },
  {
   "cell_type": "code",
   "execution_count": 15,
   "metadata": {
    "collapsed": true
   },
   "outputs": [],
   "source": [
    "J = linearRegCostFunction(theta, np.c_[np.ones([m,1]),X], y, lmd) # Xはバイアスつけた状態で渡す"
   ]
  },
  {
   "cell_type": "code",
   "execution_count": 16,
   "metadata": {
    "collapsed": false
   },
   "outputs": [
    {
     "name": "stdout",
     "output_type": "stream",
     "text": [
      "thetaが[1, 1]のときのコストJは 0.7270372836123554\n"
     ]
    }
   ],
   "source": [
    "print(\"thetaが[1, 1]のときのコストJは\", J)"
   ]
  },
  {
   "cell_type": "markdown",
   "metadata": {},
   "source": [
    "## 正則化線形回帰の目的関数の勾配(gradient)"
   ]
  },
  {
   "cell_type": "markdown",
   "metadata": {},
   "source": [
    "**【課題３】** 正則化された線形回帰の目的関数の勾配`linearRegGrad(theta, XwithBias, y, lmd)`を実装しましょう。`XwithBias`は`X`にバイアスを付加したものとします。（Step5_01の課題３と同じ課題です。）"
   ]
  },
  {
   "cell_type": "code",
   "execution_count": 17,
   "metadata": {
    "collapsed": true
   },
   "outputs": [],
   "source": [
    "#Coursemale-02 Step5 QuestionNumber3 dbee1c36b59a507128480539e13a164d\n",
    "def linearRegGrad(theta, XwithBias, y, lmd):\n",
    "###############ここを穴埋めしてください###############\n",
    "    m = y.size\n",
    "    grad = XwithBias.T.dot(np.dot(XwithBias, theta) - y) / m + (lmd / m) * np.r_[0, theta[1:]] \n",
    "    return grad\n",
    "######################################################"
   ]
  },
  {
   "cell_type": "markdown",
   "metadata": {},
   "source": [
    "左上の**保存マークをクリックした後**、次のセルをShift+Enterで実行して採点します。"
   ]
  },
  {
   "cell_type": "code",
   "execution_count": 19,
   "metadata": {
    "collapsed": false
   },
   "outputs": [
    {
     "name": "stdout",
     "output_type": "stream",
     "text": [
      "Congratulations!\n",
      "We give you 10 points out of 10 points.\n",
      "\n"
     ]
    }
   ],
   "source": [
    "%%bash\n",
    "./validation_client.py male-02 5 3 Step5_02.ipynb api.internal.zero2one.jp"
   ]
  },
  {
   "cell_type": "markdown",
   "metadata": {},
   "source": [
    "念のためちゃんと走るか確認してみましょう。（正しい答えかどうかは分からない）"
   ]
  },
  {
   "cell_type": "code",
   "execution_count": 20,
   "metadata": {
    "collapsed": true
   },
   "outputs": [],
   "source": [
    "grad = linearRegGrad(theta, np.c_[np.ones([m,1]),X], y, lmd) # Xはバイアスつけた状態で渡す"
   ]
  },
  {
   "cell_type": "code",
   "execution_count": 21,
   "metadata": {
    "collapsed": false
   },
   "outputs": [
    {
     "name": "stdout",
     "output_type": "stream",
     "text": [
      "thetaが[1, 1]のときの目的関数のgradは [0.13541991 1.92030114]\n"
     ]
    }
   ],
   "source": [
    "print(\"thetaが[1, 1]のときの目的関数のgradは\", grad)"
   ]
  },
  {
   "cell_type": "markdown",
   "metadata": {},
   "source": [
    "## 線形回帰の学習"
   ]
  },
  {
   "cell_type": "markdown",
   "metadata": {},
   "source": [
    "**【課題４】** 線形回帰モデルをつかって学習する関数`trainLinearReg(X, y, lmd)`を実装しましょう。`XwithBias`は`X`にバイアスを付加したものとします。返値はパラメータの配列`theta`になるようにしてください。（Step5_01の課題４と同じ課題です。）"
   ]
  },
  {
   "cell_type": "code",
   "execution_count": 22,
   "metadata": {
    "collapsed": true
   },
   "outputs": [],
   "source": [
    "#Coursemale-02 Step5 QuestionNumber4 e004d9191eca1eddf8ce00f496038bc6\n",
    "def trainLinearReg(XwithBias, y, lmd):\n",
    "###############ここを穴埋めしてください###############\n",
    "    m, n = XwithBias.shape # Xはここではバイアス項を付け加えているので2-dim\n",
    "\n",
    "\n",
    "    # thetaの初期化\n",
    "    #initial_thetaは1-dim\n",
    "    initial_theta = np.zeros(n)\n",
    "\n",
    "    # 最適化する変数以外は固定 \n",
    "    cost_fixed = partial(linearRegCostFunction, XwithBias=XwithBias, y=y, lmd=lmd) #functools\n",
    "    grad_fixed = partial(linearRegGrad, XwithBias=XwithBias, y=y, lmd=lmd) #functools\n",
    "\n",
    "    # 最適化\n",
    "    res = scopt.minimize(cost_fixed, initial_theta, method='BFGS', jac=grad_fixed)\n",
    "\n",
    "    return res.x\n",
    "#######################################################"
   ]
  },
  {
   "cell_type": "markdown",
   "metadata": {},
   "source": [
    "左上の**保存マークをクリックした後**、次のセルをShift+Enterで実行して採点します。"
   ]
  },
  {
   "cell_type": "code",
   "execution_count": 24,
   "metadata": {
    "collapsed": false
   },
   "outputs": [
    {
     "name": "stdout",
     "output_type": "stream",
     "text": [
      "Congratulations!\n",
      "We give you 10 points out of 10 points.\n",
      "\n"
     ]
    }
   ],
   "source": [
    "%%bash\n",
    "./validation_client.py male-02 5 4 Step5_02.ipynb api.internal.zero2one.jp"
   ]
  },
  {
   "cell_type": "markdown",
   "metadata": {},
   "source": [
    "## 多項式回帰分析のための特徴を準備（Feature Normalize も）"
   ]
  },
  {
   "cell_type": "markdown",
   "metadata": {},
   "source": [
    "多項式で特徴を増やし、多項式回帰を行いましょう。このとき、新しく作った各特徴のレンジが大きく違うので、Feature Normalizeが必須であることを思い出しましょう。"
   ]
  },
  {
   "cell_type": "markdown",
   "metadata": {},
   "source": [
    "※課題１〜４までStep5_01と同じ課題であったので同じ課題番号を割り当てました。次の課題６から新たな課題です。課題５が飛んでいるわけではありません。"
   ]
  },
  {
   "cell_type": "markdown",
   "metadata": {},
   "source": [
    "**【課題６】** 多項式で特徴を増やす関数`polyFeatures(X, p)`を実装しましょう。なお、`X`はバイアスを含みません。`p`は次数を指します。返値は各訓練例に対する（多項式で増やした）新しい特徴であり、shapeが`(m, p)`の配列となります。"
   ]
  },
  {
   "cell_type": "code",
   "execution_count": 25,
   "metadata": {
    "collapsed": true
   },
   "outputs": [],
   "source": [
    "#Coursemale-02 Step5 QuestionNumber6 f4143360d78b3f059c5a57ea21e0db2b\n",
    "def polyFeatures(X, p):\n",
    "    m, = X.shape # Xは1-dim。mの後のカンマ必須\n",
    "    X_poly = np.empty((m, p))\n",
    "\n",
    "###############ここを穴埋めしてください###############\n",
    "    for i in range(p):\n",
    "        X_poly[:,i] = X**(i+1)\n",
    "######################################################\n",
    "\n",
    "    return X_poly"
   ]
  },
  {
   "cell_type": "markdown",
   "metadata": {},
   "source": [
    "左上の**保存マークをクリックした後**、次のセルをShift+Enterで実行して採点します。"
   ]
  },
  {
   "cell_type": "code",
   "execution_count": 26,
   "metadata": {
    "collapsed": false
   },
   "outputs": [
    {
     "name": "stdout",
     "output_type": "stream",
     "text": [
      "Congratulations!\n",
      "We give you 10 points out of 10 points.\n",
      "\n"
     ]
    }
   ],
   "source": [
    "%%bash\n",
    "./validation_client.py male-02 5 6 Step5_02.ipynb api.internal.zero2one.jp"
   ]
  },
  {
   "cell_type": "markdown",
   "metadata": {},
   "source": [
    "---\n",
    "**【課題６別解】（参考）**\n",
    "\n",
    "この課題については参考として、内包表記を用いた解答例を載せておきます。"
   ]
  },
  {
   "cell_type": "code",
   "execution_count": 27,
   "metadata": {
    "collapsed": true
   },
   "outputs": [],
   "source": [
    "def polyFeatures(X, p):\n",
    "    return np.array([X**(i+1) for i in range(p)]).T"
   ]
  },
  {
   "cell_type": "markdown",
   "metadata": {},
   "source": [
    "---"
   ]
  },
  {
   "cell_type": "markdown",
   "metadata": {},
   "source": [
    "**【課題７】** Feature Normalizeを行う関数`featureNormalize(X)`を実装しましょう。`X`はバイアスを含んでいません。返値はFeature Normalize済みの`X`である`X_norm`、 平均`mu`、標準偏差`sigma`の三つで、`return [X_norm, mu, sigma]`といった具合に返して下さい。"
   ]
  },
  {
   "cell_type": "code",
   "execution_count": 28,
   "metadata": {
    "collapsed": true
   },
   "outputs": [],
   "source": [
    "#Coursemale-02 Step5 QuestionNumber7 150531b3eb479795993d4e1abaa8ab6b\n",
    "def featureNormalize(X):\n",
    "###############ここを穴埋めしてください###############\n",
    "    mu = X.mean(axis=0)\n",
    "    sigma = X.std(axis=0)\n",
    "    X_norm = ( X - mu ) / sigma\n",
    "\n",
    "    return [X_norm, mu, sigma]\n",
    "######################################################"
   ]
  },
  {
   "cell_type": "markdown",
   "metadata": {},
   "source": [
    "左上の**保存マークをクリックした後**、次のセルをShift+Enterで実行して採点します。"
   ]
  },
  {
   "cell_type": "code",
   "execution_count": 29,
   "metadata": {
    "collapsed": false
   },
   "outputs": [
    {
     "name": "stdout",
     "output_type": "stream",
     "text": [
      "Congratulations!\n",
      "We give you 10 points out of 10 points.\n",
      "\n"
     ]
    }
   ],
   "source": [
    "%%bash\n",
    "./validation_client.py male-02 5 7 Step5_02.ipynb api.internal.zero2one.jp"
   ]
  },
  {
   "cell_type": "markdown",
   "metadata": {},
   "source": [
    "## 多項式回帰"
   ]
  },
  {
   "cell_type": "markdown",
   "metadata": {},
   "source": [
    "特徴を5次まで増やしてオーバーフィッティングしやすい仮説にしておきます。"
   ]
  },
  {
   "cell_type": "code",
   "execution_count": 30,
   "metadata": {
    "collapsed": true
   },
   "outputs": [],
   "source": [
    "p = 5"
   ]
  },
  {
   "cell_type": "markdown",
   "metadata": {},
   "source": [
    "多項式で特徴を増やします。"
   ]
  },
  {
   "cell_type": "code",
   "execution_count": 31,
   "metadata": {
    "collapsed": true
   },
   "outputs": [],
   "source": [
    "X_poly = polyFeatures(X, p)"
   ]
  },
  {
   "cell_type": "markdown",
   "metadata": {},
   "source": [
    "Feature Normalizeします。"
   ]
  },
  {
   "cell_type": "code",
   "execution_count": 32,
   "metadata": {
    "collapsed": true
   },
   "outputs": [],
   "source": [
    "X_poly_norm, mu, sigma = featureNormalize(X_poly)"
   ]
  },
  {
   "cell_type": "markdown",
   "metadata": {},
   "source": [
    "交差検証例もテスト例も今行ったFeature Scalingに合わせます。"
   ]
  },
  {
   "cell_type": "code",
   "execution_count": 33,
   "metadata": {
    "collapsed": true
   },
   "outputs": [],
   "source": [
    "X_poly_cv = polyFeatures(Xcv, p)\n",
    "X_poly_cv_norm = (X_poly_cv - mu) / sigma #ブロードキャスト"
   ]
  },
  {
   "cell_type": "code",
   "execution_count": 34,
   "metadata": {
    "collapsed": true
   },
   "outputs": [],
   "source": [
    "X_poly_test = polyFeatures(Xtest, p)\n",
    "X_poly_test_norm = (X_poly_test - mu) / sigma #ブロードキャスト"
   ]
  },
  {
   "cell_type": "markdown",
   "metadata": {},
   "source": [
    "各々バイアスを付加します。"
   ]
  },
  {
   "cell_type": "code",
   "execution_count": 35,
   "metadata": {
    "collapsed": true
   },
   "outputs": [],
   "source": [
    "m_cv = Xcv.shape[0]\n",
    "m_test = Xtest.shape[0]\n",
    "\n",
    "X_poly_normWithBias = np.c_[np.ones([m,1]),X_poly_norm]\n",
    "X_poly_cv_normWithBias = np.c_[np.ones([m_cv,1]),X_poly_cv_norm]\n",
    "X_poly_test_normWithBias = np.c_[np.ones([m_test,1]),X_poly_test_norm]"
   ]
  },
  {
   "cell_type": "markdown",
   "metadata": {},
   "source": [
    "ノーマライズされた訓練例（バイアス込み）を一つ見ておきましょう。"
   ]
  },
  {
   "cell_type": "code",
   "execution_count": 36,
   "metadata": {
    "collapsed": false
   },
   "outputs": [
    {
     "name": "stdout",
     "output_type": "stream",
     "text": [
      "ノーマライズされた訓練例1:  [1.         1.55598247 1.16484881 1.49407642 0.83154722 0.97952962]\n"
     ]
    }
   ],
   "source": [
    "print(\"ノーマライズされた訓練例1: \", X_poly_normWithBias[0,:])"
   ]
  },
  {
   "cell_type": "markdown",
   "metadata": {},
   "source": [
    "## 多項式回帰の学習曲線"
   ]
  },
  {
   "cell_type": "markdown",
   "metadata": {},
   "source": [
    "多項式回帰の学習曲線をプロットします。正則化なしとします。(lmd = 0)"
   ]
  },
  {
   "cell_type": "code",
   "execution_count": 37,
   "metadata": {
    "collapsed": true
   },
   "outputs": [],
   "source": [
    "lmd = 0"
   ]
  },
  {
   "cell_type": "code",
   "execution_count": 38,
   "metadata": {
    "collapsed": true,
    "scrolled": true
   },
   "outputs": [],
   "source": [
    "theta = trainLinearReg(X_poly_normWithBias, y, lmd)"
   ]
  },
  {
   "cell_type": "code",
   "execution_count": 39,
   "metadata": {
    "collapsed": true
   },
   "outputs": [],
   "source": [
    "def plotFit(X, y, Xcv, ycv, theta, mu, sigma, p):\n",
    "# pは多項式の次数\n",
    "    #課題１で実装してもらった関数です\n",
    "    plotData(X, y, Xcv, ycv)\n",
    "    \n",
    "    #このセル内で直前にプロットしたものに上書きしていきます\n",
    "    plt.hold(True)\n",
    "    \n",
    "    min_x = X.min()\n",
    "    max_x = X.max()\n",
    "    #左右に少しはみ出るくらいにプロットしておく\n",
    "    x = np.arange(min_x - 15, max_x + 25, 0.05)\n",
    "\n",
    "    #そのxを多項式に\n",
    "    x_poly_norm = ( polyFeatures(x, p) - mu ) / sigma #ブロードキャスト\n",
    "\n",
    "    m_x_poly_norm, n_x_poly_norm = x_poly_norm.shape #x_polyは2-dim\n",
    "\n",
    "    #1をズラッと並べる\n",
    "    x_poly_normWithBias = np.c_[np.ones([m_x_poly_norm,1]),x_poly_norm]\n",
    "\n",
    "    plt.plot(x, x_poly_normWithBias.dot(theta), label=u'多項式回帰 p=%d'%p)\n",
    "\n",
    "    #念のため、グラフの端をもう一度指定しておきます。\n",
    "    plt.xlim([-5,5])\n",
    "    plt.ylim([-1,5])\n",
    "    \n",
    "    #凡例を入れます。\n",
    "    plt.legend(loc=\"upper left\")\n",
    "\n",
    "    plt.show()"
   ]
  },
  {
   "cell_type": "code",
   "execution_count": 40,
   "metadata": {
    "collapsed": false,
    "scrolled": true
   },
   "outputs": [
    {
     "data": {
      "image/png": "[encoded data removed]",
      "text/plain": [
       "<matplotlib.figure.Figure at 0x7fe56af379e8>"
      ]
     },
     "metadata": {},
     "output_type": "display_data"
    }
   ],
   "source": [
    "plotFit(X, y, Xcv, ycv, theta, mu, sigma, p)"
   ]
  },
  {
   "cell_type": "code",
   "execution_count": 41,
   "metadata": {
    "collapsed": true
   },
   "outputs": [],
   "source": [
    "def learningCurve(XwithBias, y, XcvWithBias, ycv, lmd):\n",
    "    theta = np.array([trainLinearReg(XwithBias[:i+1], y[:i+1], lmd) for i in range(XwithBias.shape[0])])\n",
    "    return np.array([[((XwithBias[:i+1].dot(theta[i])-y[:i+1])**2).sum() / (2*(i+1)), \\\n",
    "                     ((XcvWithBias.dot(theta[i])-ycv)**2).sum() / (2*XcvWithBias.shape[0])] for i in range(XwithBias.shape[0])]).T"
   ]
  },
  {
   "cell_type": "code",
   "execution_count": 42,
   "metadata": {
    "collapsed": true
   },
   "outputs": [],
   "source": [
    "def plotLearningCurve(error_train, error_cv):\n",
    "    plt.plot(range(1,m+1), error_train, label=u\"訓練集合\")\n",
    "    plt.plot(range(1,m+1), error_cv, label=u\"交差検証集合\")\n",
    "    plt.legend(loc=\"best\")\n",
    "    plt.title(u\"線形回帰の学習曲線\")\n",
    "    plt.xlabel(u\"訓練例の数\")\n",
    "    plt.ylabel(u\"誤差\")\n",
    "    plt.ylim([0, 0.4])\n",
    "    plt.draw()"
   ]
  },
  {
   "cell_type": "code",
   "execution_count": 43,
   "metadata": {
    "collapsed": true
   },
   "outputs": [],
   "source": [
    "# XとXvalはバイアスつけた状態で渡す\n",
    "error_train, error_cv = learningCurve(X_poly_normWithBias, y, X_poly_cv_normWithBias, ycv, lmd)"
   ]
  },
  {
   "cell_type": "code",
   "execution_count": 44,
   "metadata": {
    "collapsed": false,
    "scrolled": true
   },
   "outputs": [
    {
     "data": {
      "image/png": "[encoded data removed]",
      "text/plain": [
       "<matplotlib.figure.Figure at 0x7fe56af20518>"
      ]
     },
     "metadata": {},
     "output_type": "display_data"
    }
   ],
   "source": [
    "plotLearningCurve(error_train, error_cv)\n",
    "plt.ylim([0,1])\n",
    "plt.show()"
   ]
  },
  {
   "cell_type": "markdown",
   "metadata": {},
   "source": [
    "訓練集合に対する誤差はかなり低いですが、交差検証集合に対する誤差はかなり暴れています。このグラフからオーバーフィッティングを予感して下さい。\n",
    "\n",
    "念のため結果の数字を一覧すると、"
   ]
  },
  {
   "cell_type": "code",
   "execution_count": 45,
   "metadata": {
    "collapsed": false
   },
   "outputs": [
    {
     "name": "stdout",
     "output_type": "stream",
     "text": [
      "訓練例\t学習誤差\t交差検証誤差\n",
      "1\t0.00000000\t0.46397628\n",
      "2\t0.00000000\t0.61360695\n",
      "3\t0.00000000\t0.23777040\n",
      "4\t0.00000000\t32.84884624\n",
      "5\t0.00000000\t3.35567621\n",
      "6\t0.00000000\t2531.83909380\n",
      "7\t0.00005092\t1371.61540932\n",
      "8\t0.00399558\t2321.58720876\n",
      "9\t0.00691737\t39.73344599\n",
      "10\t0.00817053\t157.77464683\n",
      "11\t0.00859793\t17.48928667\n",
      "12\t0.00891510\t0.19630154\n",
      "13\t0.00825633\t0.19344939\n",
      "14\t0.01432919\t0.57403453\n",
      "15\t0.01524902\t0.14680364\n",
      "16\t0.01459505\t0.16253218\n",
      "17\t0.01449465\t0.29951601\n",
      "18\t0.01477171\t0.45525928\n",
      "19\t0.01471619\t0.52223831\n",
      "20\t0.01565242\t0.58735283\n",
      "21\t0.01889896\t0.57183833\n",
      "22\t0.02113262\t0.38279964\n",
      "23\t0.02123822\t0.43783348\n",
      "24\t0.02038954\t0.46968003\n",
      "25\t0.01973836\t0.68816473\n",
      "26\t0.02010183\t0.83237903\n",
      "27\t0.01947296\t0.74751219\n",
      "28\t0.01976361\t0.93093866\n",
      "29\t0.01917102\t0.91131088\n",
      "30\t0.01857503\t0.94756039\n"
     ]
    }
   ],
   "source": [
    "print(\"訓練例\\t学習誤差\\t交差検証誤差\")\n",
    "for i in range(m):\n",
    "    print(i+1, end=\"\")\n",
    "    print(\"\\t\", end=\"\")\n",
    "    print(\"%0.8f\"%error_train[i], end=\"\")\n",
    "    print(\"\\t\", end=\"\")\n",
    "    print(\"%0.8f\"%error_cv[i])"
   ]
  },
  {
   "cell_type": "markdown",
   "metadata": {},
   "source": [
    "## 正則化パラメータlmdの選択"
   ]
  },
  {
   "cell_type": "markdown",
   "metadata": {},
   "source": [
    "オーバーフィッティングを是正するため、正則化します。適切な正則化パラメータを選ぶために、横軸に正則化パラメータの値`lmd`、縦軸に誤差（訓練誤差と交差検証誤差）をプロットしたグラフを描画しましょう。\n",
    "\n",
    "**【課題８】** チェックする正則化パラメータの値を収めた1次元配列`lmd_vec`のそれぞれの値に対して、訓練誤差`error_train`と交差検証誤差`error_cv`を出力する関数`validationCurve(X, y, Xcv, ycv, lmd_vec)`を自由に実装して下さい。返値は`[error_train, error_cv]`です。"
   ]
  },
  {
   "cell_type": "code",
   "execution_count": 49,
   "metadata": {
    "collapsed": true
   },
   "outputs": [],
   "source": [
    "#Coursemale-02 Step5 QuestionNumber8 767449dcf096606dc9ef96a3328548a1\n",
    "def validationCurve(X, y, Xcv, ycv, lmd_vec):\n",
    "    m, n = X.shape # ここのXは2-dim\n",
    "    m_cv, n_cv = Xcv.shape\n",
    "\n",
    "    error_train = np.empty(lmd_vec.size)\n",
    "    error_cv = np.empty(lmd_vec.size)\n",
    "\n",
    "###############ここを穴埋めしてください###############\n",
    "    for i in range(lmd_vec.shape[0]):\n",
    "        lmd = lmd_vec[i]\n",
    "        theta = trainLinearReg(X, y, lmd)\n",
    "        error_train[i] = ((X.dot(theta)-y)**2).sum()/(2*m)\n",
    "        error_cv[i] = ((Xcv.dot(theta)-ycv)**2).sum()/(2*m_cv)\n",
    "######################################################\n",
    "\n",
    "    return [error_train, error_cv]"
   ]
  },
  {
   "cell_type": "markdown",
   "metadata": {},
   "source": [
    "左上の**保存マークをクリックした後**、次のセルをShift+Enterで実行して採点します。"
   ]
  },
  {
   "cell_type": "code",
   "execution_count": 50,
   "metadata": {
    "collapsed": false
   },
   "outputs": [
    {
     "name": "stdout",
     "output_type": "stream",
     "text": [
      "Congratulations!\n",
      "We give you 10 points out of 10 points.\n",
      "\n"
     ]
    }
   ],
   "source": [
    "%%bash\n",
    "./validation_client.py male-02 5 8 Step5_02.ipynb api.internal.zero2one.jp"
   ]
  },
  {
   "cell_type": "markdown",
   "metadata": {},
   "source": [
    "---\n",
    "**【課題８別解】（参考）**\n",
    "\n",
    "この課題については参考として、内包表記を用いた解答例を載せておきます。"
   ]
  },
  {
   "cell_type": "code",
   "execution_count": 51,
   "metadata": {
    "collapsed": true
   },
   "outputs": [],
   "source": [
    "def validationCurve(X, y, Xcv, ycv, lmd_vec):\n",
    "    theta = np.array([trainLinearReg(X, y, lmd) for lmd in lmd_vec])\n",
    "    return np.array([[((X.dot(theta_i)-y)**2).sum()/(2*X.shape[0]), \\\n",
    "                      ((Xcv.dot(theta_i)-ycv)**2).sum()/(2*Xcv.shape[0])] for theta_i in theta]).T"
   ]
  },
  {
   "cell_type": "markdown",
   "metadata": {},
   "source": [
    "---"
   ]
  },
  {
   "cell_type": "markdown",
   "metadata": {},
   "source": [
    "log scaleで等間隔になるように`lmd_vec`を作ります。"
   ]
  },
  {
   "cell_type": "code",
   "execution_count": 52,
   "metadata": {
    "collapsed": true
   },
   "outputs": [],
   "source": [
    "lmd_vec = np.logspace(-3, 2, 12)"
   ]
  },
  {
   "cell_type": "markdown",
   "metadata": {},
   "source": [
    "作った関数`validationCurve(X, y, Xcv, ycv, lmd_vec)`を使って`error_train`, `error_cv`を得ます。"
   ]
  },
  {
   "cell_type": "code",
   "execution_count": 53,
   "metadata": {
    "collapsed": true
   },
   "outputs": [],
   "source": [
    "error_train, error_cv = validationCurve(X_poly_normWithBias, y, X_poly_cv_normWithBias, ycv, lmd_vec)"
   ]
  },
  {
   "cell_type": "code",
   "execution_count": 54,
   "metadata": {
    "collapsed": true
   },
   "outputs": [],
   "source": [
    "def plotLearningCurve(error_train, error_cv):\n",
    "    plt.hold(True)\n",
    "    \n",
    "    plt.plot(lmd_vec, error_train, label=u\"訓練集合\")\n",
    "    plt.plot(lmd_vec, error_cv, label=u\"交差検証集合\")\n",
    "    \n",
    "    plt.ylim([0,1])\n",
    "    plt.xscale('log')\n",
    "    plt.legend(loc=\"best\")\n",
    "    plt.title(u\"線形回帰の学習曲線\")\n",
    "    plt.xlabel(u\"正則化パラメータlmd\")\n",
    "    plt.ylabel(u\"誤差\")\n",
    "    plt.show()"
   ]
  },
  {
   "cell_type": "code",
   "execution_count": 55,
   "metadata": {
    "collapsed": false
   },
   "outputs": [
    {
     "data": {
      "image/png": "[encoded data removed]",
      "text/plain": [
       "<matplotlib.figure.Figure at 0x7fe56aefdd30>"
      ]
     },
     "metadata": {},
     "output_type": "display_data"
    }
   ],
   "source": [
    "plotLearningCurve(error_train, error_cv)"
   ]
  },
  {
   "cell_type": "code",
   "execution_count": 56,
   "metadata": {
    "collapsed": false
   },
   "outputs": [
    {
     "name": "stdout",
     "output_type": "stream",
     "text": [
      "正則化パラメータlmd\t学習誤差\t交差検証誤差\n",
      "\t0.001\t\t0.01857520\t0.93719469\n",
      "\t0.003\t\t0.01857634\t0.91863297\n",
      "\t0.008\t\t0.01858486\t0.86964613\n",
      "\t0.023\t\t0.01863980\t0.75540443\n",
      "\t0.066\t\t0.01890422\t0.55277313\n",
      "\t0.187\t\t0.01984488\t0.31192262\n",
      "\t0.534\t\t0.02296991\t0.13022453\n",
      "\t1.520\t\t0.03258073\t0.05014085\n",
      "\t4.329\t\t0.05351394\t0.05151346\n",
      "\t12.328\t\t0.08743786\t0.09617140\n",
      "\t35.112\t\t0.14043174\t0.17315555\n",
      "\t100.000\t\t0.24188564\t0.30576324\n"
     ]
    }
   ],
   "source": [
    "print(\"正則化パラメータlmd\\t学習誤差\\t交差検証誤差\")\n",
    "for i in range(lmd_vec.size):\n",
    "    print(\"\\t\", end=\"\")\n",
    "    print(\"%0.3f\"%lmd_vec[i], end=\"\")\n",
    "    print(\"\\t\\t\", end=\"\")\n",
    "    print(\"%0.8f\"%error_train[i], end=\"\")\n",
    "    print(\"\\t\", end=\"\")\n",
    "    print(\"%0.8f\"%error_cv[i])"
   ]
  },
  {
   "cell_type": "markdown",
   "metadata": {
    "collapsed": true
   },
   "source": [
    "**【課題９】** グラフから適切だと思われる正則化パラメータの値を選択し、その`lmd`で学習させましょう。"
   ]
  },
  {
   "cell_type": "code",
   "execution_count": 58,
   "metadata": {
    "collapsed": false
   },
   "outputs": [
    {
     "data": {
      "image/png": "[encoded data removed]",
      "text/plain": [
       "<matplotlib.figure.Figure at 0x7fe56ae832e8>"
      ]
     },
     "metadata": {},
     "output_type": "display_data"
    }
   ],
   "source": [
    "#Coursemale-02 Step5 QuestionNumber9 1d474381b39c9b2e84a62df3030c638d\n",
    "###############ここを穴埋めしてください###############\n",
    "lmd = 1.52\n",
    "theta = trainLinearReg(X_poly_normWithBias, y, lmd)\n",
    "plotFit(X, y, Xcv, ycv, theta, mu, sigma, p)\n",
    "######################################################"
   ]
  },
  {
   "cell_type": "markdown",
   "metadata": {},
   "source": [
    "左上の**保存マークをクリックした後**、次のセルをShift+Enterで実行して採点します。"
   ]
  },
  {
   "cell_type": "code",
   "execution_count": 59,
   "metadata": {
    "collapsed": false
   },
   "outputs": [
    {
     "name": "stdout",
     "output_type": "stream",
     "text": [
      "Congratulations!\n",
      "We give you 10 points out of 10 points.\n",
      "\n"
     ]
    }
   ],
   "source": [
    "%%bash\n",
    "./validation_client.py male-02 5 9 Step5_02.ipynb api.internal.zero2one.jp"
   ]
  },
  {
   "cell_type": "markdown",
   "metadata": {},
   "source": [
    "**【課題１０】** テスト集合を用いて交差検証集合を用いたモデル選択の結果を評価しましょう。"
   ]
  },
  {
   "cell_type": "code",
   "execution_count": 60,
   "metadata": {
    "collapsed": false,
    "scrolled": false
   },
   "outputs": [
    {
     "name": "stdout",
     "output_type": "stream",
     "text": [
      "テスト誤差: 0.01147125\n"
     ]
    }
   ],
   "source": [
    "#Coursemale-02 Step5 QuestionNumber10 fa17b41302f8feb11c7e5cbf6eaad1cb\n",
    "###############ここを穴埋めしてください###############\n",
    "error_test = ((X_poly_test_normWithBias.dot(theta)-ytest)**2).sum() / (2*ytest.shape[0])\n",
    "print(\"テスト誤差: %0.8f\"%error_test)\n",
    "######################################################"
   ]
  },
  {
   "cell_type": "markdown",
   "metadata": {},
   "source": [
    "左上の**保存マークをクリックした後**、次のセルをShift+Enterで実行して採点します。"
   ]
  },
  {
   "cell_type": "code",
   "execution_count": 61,
   "metadata": {
    "collapsed": false
   },
   "outputs": [
    {
     "name": "stdout",
     "output_type": "stream",
     "text": [
      "Congratulations!\n",
      "We give you 10 points out of 10 points.\n",
      "\n"
     ]
    }
   ],
   "source": [
    "%%bash\n",
    "./validation_client.py male-02 5 10 Step5_02.ipynb api.internal.zero2one.jp"
   ]
  },
  {
   "cell_type": "markdown",
   "metadata": {},
   "source": [
    "## おわりに\n",
    "訓練データや交差検証データを用いたモデルの選択の要領は以上のようなものです。どの程度の誤差まで許容できるのかによって、最後のテスト誤差を良しとするか否かは決まってきます。プロジェクトを始めるときは、何に利用するのか、どの程度の誤差まで許容できるのかということをまず念頭に置いておく必要があるわけです。"
   ]
  },
  {
   "cell_type": "code",
   "execution_count": null,
   "metadata": {
    "collapsed": true
   },
   "outputs": [],
   "source": []
  }
 ],
 "metadata": {
  "anaconda-cloud": {},
  "kernelspec": {
   "display_name": "Python [default]",
   "language": "python",
   "name": "python3"
  },
  "language_info": {
   "codemirror_mode": {
    "name": "ipython",
    "version": 3
   },
   "file_extension": ".py",
   "mimetype": "text/x-python",
   "name": "python",
   "nbconvert_exporter": "python",
   "pygments_lexer": "ipython3",
   "version": "3.5.2"
  },
  "toc": {
   "nav_menu": {
    "height": "268px",
    "width": "252px"
   },
   "navigate_menu": true,
   "number_sections": true,
   "sideBar": true,
   "threshold": 4,
   "toc_cell": false,
   "toc_section_display": "block",
   "toc_window_display": true
  }
 },
 "nbformat": 4,
 "nbformat_minor": 1
}
