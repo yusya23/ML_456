{
 "cells": [
  {
   "cell_type": "markdown",
   "metadata": {},
   "source": [
    "# Step6 演習02 SVMとその利用\n",
    "---"
   ]
  },
  {
   "cell_type": "markdown",
   "metadata": {},
   "source": [
    "Step6ではscikit-learnを用いてSVMの実装を行います。\n",
    "\n",
    "scikit-learnのSVMは台湾大学が開発しているLIBSVMのラッパーとして実装されています。\n",
    "\n",
    "LIBSVMはとても著名なライブラリーです。\n",
    "\n",
    "Python以外の言語でSVMを用いるときも必ずと言ってよいほどお世話になるでしょう。\n",
    "\n",
    "また、カーネル法を用いない素のSVMのことを線形SVMと呼ぶのでした。ほぼ線形分離可能であるように見えるサンプルデータを作成し、それを用いて学習させてみます。\n",
    "\n",
    "\n",
    "**はじめに**\n",
    "- for文やwhile文の利用は明示的な利用指示がない場所での使用は避けてください。\n",
    "\n",
    "**本演習の目的**\n",
    "- 線形SVMの実装を行う。"
   ]
  },
  {
   "cell_type": "markdown",
   "metadata": {},
   "source": [
    "## ライブラリのインポート\n",
    "\n",
    "まずはじめに、利用するライブラリのインポートを行います。\n",
    "\n",
    "- [numpy](http://www.numpy.org) 数値計算を行うための基本パッケージの公式ドキュメント\n",
    "- [matplotlib](http://matplotlib.org) グラフ描画ライブラリの基本パッケージの公式ドキュメント\n",
    "- [scikit-learnチュートリアル sklearn.svm.SVC](http://scikit-learn.org/stable/modules/generated/sklearn.svm.SVC.html)\n",
    "- [LIBSVM](http://www.csie.ntu.edu.tw/~cjlin/libsvm/) \n",
    "\n",
    "ドキュメントには有用な情報が書き記されています。何か迷ったときには必ずドキュメントに戻ってくるようにしましょう。\n",
    "\n",
    "次のセルをそのまま実行（\"SHIFT\" + \"ENTER\"）してください。コードが書いてあるセルは**上から順番に**順次実行してください。\n",
    "\n",
    "** 注意： **初めてmatplotlibを使うユーザーは、フォント一覧のキャッシュが存在しないため、このセルの実行でWarningが出ます。もう一度実行すると、すでにキャッシュができているので、Warningなく走ります。"
   ]
  },
  {
   "cell_type": "code",
   "execution_count": 1,
   "metadata": {
    "collapsed": true
   },
   "outputs": [],
   "source": [
    "%matplotlib inline\n",
    "import numpy as np\n",
    "import matplotlib.pyplot as plt\n",
    "from sklearn import svm\n",
    "from sklearn import datasets\n",
    "import os\n",
    "font = {'family':'IPAexGothic'}\n",
    "plt.rc('font', **font)"
   ]
  },
  {
   "cell_type": "markdown",
   "metadata": {},
   "source": [
    "## ガウシアンカーネルを使ったSVM"
   ]
  },
  {
   "cell_type": "markdown",
   "metadata": {},
   "source": [
    "ここまでのことならば、ロジスティック回帰でも似たようなことができそうです。では、SVMで活用できる強力な手法、カーネルトリックを使ってみましょう。"
   ]
  },
  {
   "cell_type": "markdown",
   "metadata": {},
   "source": [
    "### データ集合2の生成\n",
    "まず、線形SVMでは対処できないデータを生成します。"
   ]
  },
  {
   "cell_type": "code",
   "execution_count": 2,
   "metadata": {
    "collapsed": true
   },
   "outputs": [],
   "source": [
    "if os.path.isfile(\"./dataStep6/dataStep6_2.csv\") == True:\n",
    "    data = np.loadtxt(\"./dataStep6/dataStep6_2.csv\", delimiter = \",\")\n",
    "    X = data[:,0:2]  # X.shapeは(100, 2)\n",
    "    y = data[:,2] #y.shapeは(100, ) 1-dimのndarrayにしておく（縦ベクトルにならないこと注意）\n",
    "\n",
    "else:\n",
    "    X, y = datasets.make_moons(n_samples=1000, noise=0.3, random_state=0)\n",
    "#    X = X * 12.5 + 50 # -4から4くらいから0から100くらいに変える\n",
    "    np.savetxt(\"./dataStep6/dataStep6_2.csv\", np.c_[X, y], delimiter=\",\", fmt=\"%f,%f,%d\")"
   ]
  },
  {
   "cell_type": "markdown",
   "metadata": {},
   "source": [
    "上のセルを実行したことによりデータセットを \"data\" に格納しました。下のセルを実行して、dataのshapeを確認しましょう。"
   ]
  },
  {
   "cell_type": "code",
   "execution_count": 3,
   "metadata": {
    "collapsed": false
   },
   "outputs": [
    {
     "data": {
      "text/plain": [
       "(1000, 3)"
      ]
     },
     "execution_count": 3,
     "metadata": {},
     "output_type": "execute_result"
    }
   ],
   "source": [
    "data.shape"
   ]
  },
  {
   "cell_type": "markdown",
   "metadata": {},
   "source": [
    "(1000,3)と表示されたはずです。\n",
    "<br>\n",
    "<br>\n",
    "このデータセットは、1000行3列の行列が格納されています。Xにdataの2列目までのデータセットを格納し、yにdataの3列目のデータを格納しています。下のセルを実行して、格納したdataの中身の一部分を確認してみましょう。"
   ]
  },
  {
   "cell_type": "code",
   "execution_count": 4,
   "metadata": {
    "collapsed": false
   },
   "outputs": [
    {
     "data": {
      "text/plain": [
       "array([[ 2.129573,  0.629904,  1.      ],\n",
       "       [ 1.888882,  0.146257,  1.      ],\n",
       "       [-0.190357,  0.383993,  0.      ],\n",
       "       [-0.404416,  0.195282,  1.      ],\n",
       "       [ 0.373012, -0.429716,  1.      ]])"
      ]
     },
     "execution_count": 4,
     "metadata": {},
     "output_type": "execute_result"
    }
   ],
   "source": [
    "data[:5]"
   ]
  },
  {
   "cell_type": "code",
   "execution_count": 5,
   "metadata": {
    "collapsed": false
   },
   "outputs": [
    {
     "data": {
      "text/plain": [
       "array([[ 2.129573],\n",
       "       [ 1.888882],\n",
       "       [-0.190357],\n",
       "       [-0.404416],\n",
       "       [ 0.373012]])"
      ]
     },
     "execution_count": 5,
     "metadata": {},
     "output_type": "execute_result"
    }
   ],
   "source": [
    "data[:5,0][:,np.newaxis]"
   ]
  },
  {
   "cell_type": "code",
   "execution_count": 6,
   "metadata": {
    "collapsed": false
   },
   "outputs": [
    {
     "data": {
      "text/plain": [
       "array([[ 0.629904],\n",
       "       [ 0.146257],\n",
       "       [ 0.383993],\n",
       "       [ 0.195282],\n",
       "       [-0.429716]])"
      ]
     },
     "execution_count": 6,
     "metadata": {},
     "output_type": "execute_result"
    }
   ],
   "source": [
    "data[:5,1][:,np.newaxis]"
   ]
  },
  {
   "cell_type": "code",
   "execution_count": 7,
   "metadata": {
    "collapsed": false
   },
   "outputs": [
    {
     "data": {
      "text/plain": [
       "array([[1.],\n",
       "       [1.],\n",
       "       [0.],\n",
       "       [1.],\n",
       "       [1.]])"
      ]
     },
     "execution_count": 7,
     "metadata": {},
     "output_type": "execute_result"
    }
   ],
   "source": [
    "data[:5,2][:,np.newaxis]"
   ]
  },
  {
   "cell_type": "markdown",
   "metadata": {},
   "source": [
    "dataの中身を訓練データ X と目標変数 y にわけました。** X **と ** y ** のデータを改めてshapeで確認しておきましょう。"
   ]
  },
  {
   "cell_type": "code",
   "execution_count": 8,
   "metadata": {
    "collapsed": false
   },
   "outputs": [
    {
     "data": {
      "text/plain": [
       "(1000, 2)"
      ]
     },
     "execution_count": 8,
     "metadata": {},
     "output_type": "execute_result"
    }
   ],
   "source": [
    "X.shape"
   ]
  },
  {
   "cell_type": "code",
   "execution_count": 9,
   "metadata": {
    "collapsed": false
   },
   "outputs": [
    {
     "data": {
      "text/plain": [
       "(1000,)"
      ]
     },
     "execution_count": 9,
     "metadata": {},
     "output_type": "execute_result"
    }
   ],
   "source": [
    "y.shape"
   ]
  },
  {
   "cell_type": "markdown",
   "metadata": {},
   "source": [
    "## データセットの視覚化"
   ]
  },
  {
   "cell_type": "markdown",
   "metadata": {},
   "source": [
    "### 生成したデータの表示"
   ]
  },
  {
   "cell_type": "markdown",
   "metadata": {},
   "source": [
    "視覚化は機械学習の実装において大変重要な作業になります。開発を進める前にデータセットの性質を把握し、視覚化する癖をつけておきましょう。\n",
    "\n",
    "**【課題１】** 生成したデータをプロットする関数`plotData(X, y)`を書きましょう。y=1のデータは`marker='+'`、y=0のデータは`marker='o'`でプロットしましょう。（Step6_02の課題１と同じ問題なので同じ課題番号を振っています。）"
   ]
  },
  {
   "cell_type": "code",
   "execution_count": 10,
   "metadata": {
    "collapsed": true
   },
   "outputs": [],
   "source": [
    "#Coursemale-02 Step6 QuestionNumber1 aa31cf959af12a077cd8d41f3e575a7e\n",
    "def plotData(X, y):\n",
    "###############ここを穴埋めしてください###############\n",
    "#適切な 関数・変数・値 などにNoneを書き換えてください。\n",
    "    pos = (y == 1)\n",
    "    neg = (y == 0)\n",
    "\n",
    "    plt.hold(True)\n",
    "    plt.scatter(X[pos,0], X[pos,1], marker='+')\n",
    "    plt.scatter(X[neg,0], X[neg,1], marker='o')\n",
    "    \n",
    "    plt.xlim(X[:,0].min(),X[:,0].max())\n",
    "    plt.ylim(X[:,1].min(),X[:,1].max())\n",
    "\n",
    "    plt.draw()\n",
    "######################################################"
   ]
  },
  {
   "cell_type": "markdown",
   "metadata": {},
   "source": [
    "左上の**保存マークをクリックした後**、次のセルをShift+Enterで実行して採点します。"
   ]
  },
  {
   "cell_type": "code",
   "execution_count": 11,
   "metadata": {
    "collapsed": false
   },
   "outputs": [
    {
     "name": "stdout",
     "output_type": "stream",
     "text": [
      "Congratulations!\n",
      "We give you 10 points out of 10 points.\n",
      "\n"
     ]
    }
   ],
   "source": [
    "%%bash\n",
    "./validation_client.py male-02 6 1 Step6_02.ipynb api.internal.zero2one.jp"
   ]
  },
  {
   "cell_type": "code",
   "execution_count": 12,
   "metadata": {
    "collapsed": false
   },
   "outputs": [
    {
     "data": {
      "image/png": "[encoded data removed]",
      "text/plain": [
       "<matplotlib.figure.Figure at 0x7f0b84e6f780>"
      ]
     },
     "metadata": {},
     "output_type": "display_data"
    }
   ],
   "source": [
    "plotData(X, y)"
   ]
  },
  {
   "cell_type": "markdown",
   "metadata": {},
   "source": [
    "### 学習"
   ]
  },
  {
   "cell_type": "markdown",
   "metadata": {},
   "source": [
    "RBFカーネル(Radial Basis Function Kernel つまり ガウシアンカーネル)によるSVMを学習させます。`kernel = \"rbf\"`と渡してやるだけでガウシアンカーネルを利用できます。\n",
    "\n",
    "講義ではガウシアンカーネルを$$K(\\boldsymbol{x}-\\boldsymbol{l}^{(i)})=\\exp\\left(-\\frac{||\\boldsymbol{x}-\\boldsymbol{l}^{(i)}||^2}{2\\sigma^2}\\right)$$と書きましたが、scikit-learnでは$\\sigma$を用いず、$$K(\\boldsymbol{x}-\\boldsymbol{l}^{(i)})=\\exp(-\\gamma||\\boldsymbol{x}-\\boldsymbol{l}^{(i)}||^2)$$というようにパラメータとして$\\gamma$を用いています。\n",
    "\n",
    "$\\gamma$はデフォルトでは`auto`です。これは状況に応じた最適な値をきめ細やかに自動で選んでくれるわけではなく、特徴の数の逆数を$\\gamma$の値として利用するだけです。\n",
    "\n",
    "これで上手くいくことも多いですが、今回は手動で指定したいと思います。余力があれば、値を変えてみましょう。"
   ]
  },
  {
   "cell_type": "code",
   "execution_count": 13,
   "metadata": {
    "collapsed": true
   },
   "outputs": [],
   "source": [
    "sigma = 0.1\n",
    "gamma = 1.0 / (2.0 * sigma ** 2)"
   ]
  },
  {
   "cell_type": "markdown",
   "metadata": {},
   "source": [
    "正則化パラメータの逆数のようなものであるC値は、とりあえず1とします。余力があれば、C値を変えるとSVMの挙動はどう変わるのか、まず想像した上で、実際に試してみましょう。"
   ]
  },
  {
   "cell_type": "code",
   "execution_count": 14,
   "metadata": {
    "collapsed": true
   },
   "outputs": [],
   "source": [
    "C = 1"
   ]
  },
  {
   "cell_type": "markdown",
   "metadata": {},
   "source": [
    "**【課題２】** ガウシアンカーネルを用いて学習させましょう。"
   ]
  },
  {
   "cell_type": "code",
   "execution_count": 16,
   "metadata": {
    "collapsed": false,
    "scrolled": true
   },
   "outputs": [
    {
     "data": {
      "text/plain": [
       "SVC(C=1, cache_size=200, class_weight=None, coef0=0.0,\n",
       "  decision_function_shape='ovr', degree=3, gamma=49.99999999999999,\n",
       "  kernel='rbf', max_iter=-1, probability=False, random_state=None,\n",
       "  shrinking=True, tol=0.001, verbose=False)"
      ]
     },
     "execution_count": 16,
     "metadata": {},
     "output_type": "execute_result"
    }
   ],
   "source": [
    "#Coursemale-02 Step6 QuestionNumber2 90cd72149a9620c34579c530572a5509\n",
    "###############ここを穴埋めしてください###############\n",
    "estimator = svm.SVC(C=1, kernel='rbf', gamma=gamma)\n",
    "estimator.fit(X, y)\n",
    "######################################################"
   ]
  },
  {
   "cell_type": "markdown",
   "metadata": {},
   "source": [
    "左上の**保存マークをクリックした後**、次のセルをShift+Enterで実行して採点します。"
   ]
  },
  {
   "cell_type": "code",
   "execution_count": 17,
   "metadata": {
    "collapsed": false
   },
   "outputs": [
    {
     "name": "stdout",
     "output_type": "stream",
     "text": [
      "Congratulations!\n",
      "We give you 10 points out of 10 points.\n",
      "\n"
     ]
    }
   ],
   "source": [
    "%%bash\n",
    "./validation_client.py male-02 6 2 Step6_02.ipynb api.internal.zero2one.jp"
   ]
  },
  {
   "cell_type": "markdown",
   "metadata": {},
   "source": [
    "### 学習結果のプロット"
   ]
  },
  {
   "cell_type": "markdown",
   "metadata": {},
   "source": [
    "学習によって得られた決定境界をプロットします。"
   ]
  },
  {
   "cell_type": "code",
   "execution_count": 18,
   "metadata": {
    "collapsed": true
   },
   "outputs": [],
   "source": [
    "def visualizeBoundary(X, y, estimator):\n",
    "    plotData(X, y)\n",
    "    plt.hold(True)\n",
    "\n",
    "    # タテヨコ300x300個を決定境界を引くサンプルにします\n",
    "    sample_num = 300\n",
    "    \n",
    "    x1plot = np.linspace(min(X[:,0]), max(X[:,0]), sample_num)\n",
    "    x2plot = np.linspace(min(X[:,1]), max(X[:,1]), sample_num)\n",
    "    X1, X2 = np.meshgrid(x1plot, x2plot)\n",
    "\n",
    "    # それぞれのサンプルに関して予測値を計算\n",
    "    vals = np.array([estimator.predict(np.column_stack((X1[:, i], X2[:, i]))) for i in range(X1.shape[1])]).T\n",
    "\n",
    "#    #内包表記を使わないと以下のようになる\n",
    "#    vals = np.empty(X1.shape)\n",
    "#    for i in range(X1.shape[1]):\n",
    "#        this_X = np.column_stack((X1[:, i], X2[:, i]))\n",
    "#        vals[:, i] = estimator.predict(this_X)\n",
    "\n",
    "    #等高線を使って予測値が0である地点と1である地点の境界をプロット\n",
    "    plt.contour(X1, X2, vals)\n",
    "    plt.show()"
   ]
  },
  {
   "cell_type": "code",
   "execution_count": 19,
   "metadata": {
    "collapsed": false
   },
   "outputs": [
    {
     "name": "stderr",
     "output_type": "stream",
     "text": [
      "/opt/conda/lib/python3.5/site-packages/numpy/ma/core.py:6442: MaskedArrayFutureWarning: In the future the default for ma.minimum.reduce will be axis=0, not the current None, to match np.minimum.reduce. Explicitly pass 0 or None to silence this warning.\n",
      "  return self.reduce(a)\n",
      "/opt/conda/lib/python3.5/site-packages/numpy/ma/core.py:6442: MaskedArrayFutureWarning: In the future the default for ma.maximum.reduce will be axis=0, not the current None, to match np.maximum.reduce. Explicitly pass 0 or None to silence this warning.\n",
      "  return self.reduce(a)\n"
     ]
    },
    {
     "data": {
      "image/png": "[encoded data removed]",
      "text/plain": [
       "<matplotlib.figure.Figure at 0x7f0b727a5748>"
      ]
     },
     "metadata": {},
     "output_type": "display_data"
    }
   ],
   "source": [
    "visualizeBoundary(X, y, estimator)"
   ]
  },
  {
   "cell_type": "code",
   "execution_count": null,
   "metadata": {
    "collapsed": true
   },
   "outputs": [],
   "source": []
  }
 ],
 "metadata": {
  "anaconda-cloud": {},
  "kernelspec": {
   "display_name": "Python [default]",
   "language": "python",
   "name": "python3"
  },
  "language_info": {
   "codemirror_mode": {
    "name": "ipython",
    "version": 3
   },
   "file_extension": ".py",
   "mimetype": "text/x-python",
   "name": "python",
   "nbconvert_exporter": "python",
   "pygments_lexer": "ipython3",
   "version": "3.5.2"
  },
  "toc": {
   "nav_menu": {
    "height": "142px",
    "width": "252px"
   },
   "navigate_menu": true,
   "number_sections": true,
   "sideBar": true,
   "threshold": 4,
   "toc_cell": false,
   "toc_section_display": "block",
   "toc_window_display": true
  }
 },
 "nbformat": 4,
 "nbformat_minor": 1
}
