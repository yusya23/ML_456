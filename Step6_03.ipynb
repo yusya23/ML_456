{
 "cells": [
  {
   "cell_type": "markdown",
   "metadata": {},
   "source": [
    "# Step6 演習03 SVMとその利用\n",
    "---"
   ]
  },
  {
   "cell_type": "markdown",
   "metadata": {},
   "source": [
    "Step6ではscikit-learnを用いてSVMの実装を行います。\n",
    "\n",
    "scikit-learnのSVMは台湾大学が開発しているLIBSVMのラッパーとして実装されています。\n",
    "\n",
    "LIBSVMはとても著名なライブラリーです。\n",
    "\n",
    "Python以外の言語でSVMを用いるときも必ずと言ってよいほどお世話になるでしょう。\n",
    "\n",
    "また、カーネル法を用いない素のSVMのことを線形SVMと呼ぶのでした。ほぼ線形分離可能であるように見えるサンプルデータを作成し、それを用いて学習させてみます。\n",
    "\n",
    "\n",
    "**はじめに**\n",
    "- for文やwhile文の利用は明示的な利用指示がない場所での使用は避けてください。\n",
    "\n",
    "**本演習の目的**\n",
    "- 線形SVMの実装を行う。"
   ]
  },
  {
   "cell_type": "markdown",
   "metadata": {},
   "source": [
    "## ライブラリのインポート\n",
    "\n",
    "まずはじめに、利用するライブラリのインポートを行います。\n",
    "\n",
    "- [numpy](http://www.numpy.org) 数値計算を行うための基本パッケージの公式ドキュメント\n",
    "- [matplotlib](http://matplotlib.org) グラフ描画ライブラリの基本パッケージの公式ドキュメント\n",
    "- [scikit-learnチュートリアル sklearn.svm.SVC](http://scikit-learn.org/stable/modules/generated/sklearn.svm.SVC.html)\n",
    "- [LIBSVM](http://www.csie.ntu.edu.tw/~cjlin/libsvm/) \n",
    "\n",
    "ドキュメントには有用な情報が書き記されています。何か迷ったときには必ずドキュメントに戻ってくるようにしましょう。\n",
    "\n",
    "次のセルをそのまま実行（\"SHIFT\" + \"ENTER\"）してください。コードが書いてあるセルは**上から順番に**順次実行してください。\n",
    "\n",
    "** 注意： **初めてmatplotlibを使うユーザーは、フォント一覧のキャッシュが存在しないため、このセルの実行でWarningが出ます。もう一度実行すると、すでにキャッシュができているので、Warningなく走ります。"
   ]
  },
  {
   "cell_type": "code",
   "execution_count": 1,
   "metadata": {
    "collapsed": true
   },
   "outputs": [],
   "source": [
    "%matplotlib inline\n",
    "import numpy as np\n",
    "import matplotlib.pyplot as plt\n",
    "from sklearn import svm\n",
    "from sklearn import datasets\n",
    "import os\n",
    "font = {'family':'IPAexGothic'}\n",
    "plt.rc('font', **font)"
   ]
  },
  {
   "cell_type": "markdown",
   "metadata": {},
   "source": [
    "## ガウシアンカーネルのパラメータの自動選択"
   ]
  },
  {
   "cell_type": "markdown",
   "metadata": {},
   "source": [
    "ガウシアンカーネルのパラメータ$\\gamma$はscikit-learnの場合デフォルトでは`auto`になっています。これは状況に応じた最適な値をきめ細やかに自動で選んでくれるわけではなく、特徴の数の逆数を$\\gamma$の値として利用するだけです。\n",
    "\n",
    "新たなデータ集合を今から生成します。今回は10000個のデータを生成します。Step6で学んだことを思い出しながら、このデータに対して適切なパラメータ(`C`と`gamma`)を自動選択するコードを実装して下さい。"
   ]
  },
  {
   "cell_type": "markdown",
   "metadata": {},
   "source": [
    "### データ集合3の生成"
   ]
  },
  {
   "cell_type": "code",
   "execution_count": 2,
   "metadata": {
    "collapsed": true
   },
   "outputs": [],
   "source": [
    "if os.path.isfile(\"./dataStep6/dataStep6_3.csv\") == True:\n",
    "    data = np.loadtxt(\"./dataStep6/dataStep6_3.csv\", delimiter = \",\")\n",
    "    Xraw = data[:,0:2]  # X.shapeは(100, 2)\n",
    "    yraw = data[:,2] #y.shapeは(100, ) 1-dimのndarrayにしておく（縦ベクトルにならないこと注意）\n",
    "\n",
    "else:\n",
    "    Xraw, yraw = datasets.make_classification(n_samples=10000, n_features=2, n_redundant=0, n_informative=2, n_clusters_per_class=1, flip_y=0.02)\n",
    "    np.savetxt(\"./dataStep6/dataStep6_3.csv\", np.c_[Xraw, yraw], delimiter=\",\", fmt=\"%f,%f,%d\")"
   ]
  },
  {
   "cell_type": "markdown",
   "metadata": {},
   "source": [
    "上のセルを実行したことによりデータセットを \"data\" に格納しました。下のセルを実行して、dataのshapeを確認しましょう。"
   ]
  },
  {
   "cell_type": "code",
   "execution_count": 3,
   "metadata": {
    "collapsed": false
   },
   "outputs": [
    {
     "data": {
      "text/plain": [
       "(10000, 3)"
      ]
     },
     "execution_count": 3,
     "metadata": {},
     "output_type": "execute_result"
    }
   ],
   "source": [
    "data.shape"
   ]
  },
  {
   "cell_type": "markdown",
   "metadata": {},
   "source": [
    "(10000,3)と表示されたはずです。\n",
    "<br>\n",
    "<br>\n",
    "このデータセットは、10000行3列の行列が格納されています。Xにdataの2列目までのデータセットを格納し、yにdataの3列目のデータを格納しています。下のセルを実行して、格納したdataの中身の一部分を確認してみましょう。"
   ]
  },
  {
   "cell_type": "code",
   "execution_count": 4,
   "metadata": {
    "collapsed": false
   },
   "outputs": [
    {
     "data": {
      "text/plain": [
       "array([[-1.559865,  0.617924,  1.      ],\n",
       "       [-0.955785,  1.071159,  1.      ],\n",
       "       [ 0.523327,  1.451054,  0.      ],\n",
       "       [-0.402752,  1.472911,  1.      ],\n",
       "       [ 0.154214,  1.972458,  0.      ]])"
      ]
     },
     "execution_count": 4,
     "metadata": {},
     "output_type": "execute_result"
    }
   ],
   "source": [
    "data[:5]"
   ]
  },
  {
   "cell_type": "code",
   "execution_count": 5,
   "metadata": {
    "collapsed": false
   },
   "outputs": [
    {
     "data": {
      "text/plain": [
       "array([[-1.559865],\n",
       "       [-0.955785],\n",
       "       [ 0.523327],\n",
       "       [-0.402752],\n",
       "       [ 0.154214]])"
      ]
     },
     "execution_count": 5,
     "metadata": {},
     "output_type": "execute_result"
    }
   ],
   "source": [
    "data[:5,0][:,np.newaxis]"
   ]
  },
  {
   "cell_type": "code",
   "execution_count": 6,
   "metadata": {
    "collapsed": false
   },
   "outputs": [
    {
     "data": {
      "text/plain": [
       "array([[0.617924],\n",
       "       [1.071159],\n",
       "       [1.451054],\n",
       "       [1.472911],\n",
       "       [1.972458]])"
      ]
     },
     "execution_count": 6,
     "metadata": {},
     "output_type": "execute_result"
    }
   ],
   "source": [
    "data[:5,1][:,np.newaxis]"
   ]
  },
  {
   "cell_type": "code",
   "execution_count": 7,
   "metadata": {
    "collapsed": false
   },
   "outputs": [
    {
     "data": {
      "text/plain": [
       "array([[1.],\n",
       "       [1.],\n",
       "       [0.],\n",
       "       [1.],\n",
       "       [0.]])"
      ]
     },
     "execution_count": 7,
     "metadata": {},
     "output_type": "execute_result"
    }
   ],
   "source": [
    "data[:5,2][:,np.newaxis]"
   ]
  },
  {
   "cell_type": "markdown",
   "metadata": {},
   "source": [
    "dataの中身を訓練データ Xraw と目標変数 yraw にわけました。** Xraw **と ** yraw ** のデータを改めてshapeで確認しておきましょう。"
   ]
  },
  {
   "cell_type": "code",
   "execution_count": 8,
   "metadata": {
    "collapsed": false
   },
   "outputs": [
    {
     "data": {
      "text/plain": [
       "(10000, 2)"
      ]
     },
     "execution_count": 8,
     "metadata": {},
     "output_type": "execute_result"
    }
   ],
   "source": [
    "Xraw.shape"
   ]
  },
  {
   "cell_type": "code",
   "execution_count": 9,
   "metadata": {
    "collapsed": false
   },
   "outputs": [
    {
     "data": {
      "text/plain": [
       "(10000,)"
      ]
     },
     "execution_count": 9,
     "metadata": {},
     "output_type": "execute_result"
    }
   ],
   "source": [
    "yraw.shape"
   ]
  },
  {
   "cell_type": "markdown",
   "metadata": {},
   "source": [
    "### 交差検証集合・テスト集合をとっておく"
   ]
  },
  {
   "cell_type": "markdown",
   "metadata": {},
   "source": [
    "**【課題３】** 元データを訓練集合(X, y)、交差検証集合(Xval, yval)、テスト集合(Xtest, ytest)に分離して下さい。"
   ]
  },
  {
   "cell_type": "code",
   "execution_count": 10,
   "metadata": {
    "collapsed": true
   },
   "outputs": [],
   "source": [
    "#Coursemale-02 Step6 QuestionNumber3 2d71d2a24402c75eccb5ff124abc4d6d\n",
    "###############ここを穴埋めしてください###############\n",
    "#適切な 関数・変数・値 などにNoneを書き換えてください。\n",
    "m_raw, n_raw = Xraw.shape\n",
    "\n",
    "X = Xraw[:m_raw*3//5, :]\n",
    "y = yraw[:m_raw*3//5]\n",
    "Xval = Xraw[m_raw*3//5:m_raw*4//5,:]\n",
    "yval = yraw[m_raw*3//5:m_raw*4//5]\n",
    "Xtest = Xraw[m_raw*4//5:,:]\n",
    "ytest = yraw[m_raw*4//5:]\n",
    "######################################################"
   ]
  },
  {
   "cell_type": "markdown",
   "metadata": {},
   "source": [
    "左上の**保存マークをクリックした後**、次のセルをShift+Enterで実行して採点します。"
   ]
  },
  {
   "cell_type": "code",
   "execution_count": 13,
   "metadata": {
    "collapsed": false
   },
   "outputs": [
    {
     "name": "stdout",
     "output_type": "stream",
     "text": [
      "Congratulations!\n",
      "We give you 10 points out of 10 points.\n",
      "\n"
     ]
    }
   ],
   "source": [
    "%%bash\n",
    "./validation_client.py male-02 6 3 Step6_03.ipynb api.internal.zero2one.jp"
   ]
  },
  {
   "cell_type": "markdown",
   "metadata": {},
   "source": [
    "## データセットの視覚化"
   ]
  },
  {
   "cell_type": "markdown",
   "metadata": {},
   "source": [
    "### 視覚化"
   ]
  },
  {
   "cell_type": "markdown",
   "metadata": {},
   "source": [
    "Step6_01, Step6_02の課題１で実装した関数がそのまま使えます。"
   ]
  },
  {
   "cell_type": "code",
   "execution_count": 14,
   "metadata": {
    "collapsed": true
   },
   "outputs": [],
   "source": [
    "def plotData(X, y):\n",
    "    pos = (y == 1)\n",
    "    neg = (y == 0)\n",
    "\n",
    "    plt.hold(True)\n",
    "    plt.scatter(X[pos,0], X[pos,1], marker='+')\n",
    "    plt.scatter(X[neg,0], X[neg,1], marker='o')\n",
    "    \n",
    "    plt.xlim(X[:,0].min(),X[:,0].max())\n",
    "    plt.ylim(X[:,1].min(),X[:,1].max())\n",
    "\n",
    "    plt.draw()"
   ]
  },
  {
   "cell_type": "code",
   "execution_count": 15,
   "metadata": {
    "collapsed": false
   },
   "outputs": [
    {
     "data": {
      "image/png": "[encoded data removed]",
      "text/plain": [
       "<matplotlib.figure.Figure at 0x7f8c00496a20>"
      ]
     },
     "metadata": {},
     "output_type": "display_data"
    }
   ],
   "source": [
    "plotData(X, y)"
   ]
  },
  {
   "cell_type": "markdown",
   "metadata": {},
   "source": [
    "### 適切なパラメータの自動選択"
   ]
  },
  {
   "cell_type": "markdown",
   "metadata": {},
   "source": [
    "**【課題４】** 当該データに対して適切な`C`と`gamma`を選択する関数`chooseParams(X, y, Xval, yval)`を自由に実装して下さい。返値は、最適なパラメータ `C`および`gamma`とします。"
   ]
  },
  {
   "cell_type": "code",
   "execution_count": 22,
   "metadata": {
    "collapsed": true
   },
   "outputs": [],
   "source": [
    "#Coursemale-02 Step6 QuestionNumber4 02e47b2ce407f8462c20e9cf64f554db\n",
    "def chooseParams(X, y, Xval, yval):\n",
    "    # およそ10^(1/2)倍程度シフトしながら各パラメータに対して8件ずつ調査する\n",
    "    values = np.array([0.01, 0.03, 0.1, 0.3, 1, 3, 10, 30])\n",
    "\n",
    "    C_values = values\n",
    "    gamma_values = 1/ (2* (values**2))\n",
    "\n",
    "###############ここを穴埋めしてください###############\n",
    "    # 念のため訓練集合をシャッフルする。\n",
    "    m = X.shape[0]\n",
    "    idx = np.random.permutation(m) \n",
    "######################################################\n",
    "\n",
    "    # forで片っ端からCとgammaを変えていく\n",
    "    scores_val = np.empty([C_values.shape[0],gamma_values.shape[0]])\n",
    "    for i_C in range(8):\n",
    "        for i_gamma in range(8):\n",
    "            # 大雑把に見ているだけなので、tolはかなり大きめに\n",
    "            estimator = svm.SVC(C=C_values[i_C], kernel='rbf', tol=2e-1, gamma=gamma_values[i_gamma])\n",
    "            \n",
    "            # 学習させるデータはとりあえず訓練集合全体の1/2程度にして高速化する。\n",
    "            estimator.fit(X[idx[:m//2]], y[idx[:m//2]])\n",
    "            \n",
    "            scores_val[i_C, i_gamma] = estimator.score(Xval, yval)\n",
    "\n",
    "###############ここを穴埋めしてください###############\n",
    "    # score_valの要素の中で最大のものが格納されている位置をmax_idxに返す\n",
    "    max_idx = np.unravel_index(scores_val.argmax(), scores_val.shape)\n",
    "\n",
    "    C = C_values[max_idx[0]]\n",
    "    gamma = gamma_values[max_idx[1]]\n",
    "######################################################\n",
    "    return [C, gamma]"
   ]
  },
  {
   "cell_type": "markdown",
   "metadata": {},
   "source": [
    "左上の**保存マークをクリックした後**、次のセルをShift+Enterで実行して採点します。"
   ]
  },
  {
   "cell_type": "code",
   "execution_count": 23,
   "metadata": {
    "collapsed": false
   },
   "outputs": [
    {
     "name": "stdout",
     "output_type": "stream",
     "text": [
      "Congratulations!\n",
      "We give you 10 points out of 10 points.\n",
      "\n"
     ]
    }
   ],
   "source": [
    "%%bash\n",
    "./validation_client.py male-02 6 4 Step6_03.ipynb api.internal.zero2one.jp"
   ]
  },
  {
   "cell_type": "code",
   "execution_count": 24,
   "metadata": {
    "collapsed": true
   },
   "outputs": [],
   "source": [
    "C, gamma = chooseParams(X, y, Xval, yval)"
   ]
  },
  {
   "cell_type": "markdown",
   "metadata": {},
   "source": [
    "### 学習"
   ]
  },
  {
   "cell_type": "markdown",
   "metadata": {},
   "source": [
    "得られた`C`と`gamma`を用いて学習させます。"
   ]
  },
  {
   "cell_type": "code",
   "execution_count": 25,
   "metadata": {
    "collapsed": true
   },
   "outputs": [],
   "source": [
    "estimator = svm.SVC(C=C, kernel='rbf', gamma=gamma)"
   ]
  },
  {
   "cell_type": "code",
   "execution_count": 26,
   "metadata": {
    "collapsed": false
   },
   "outputs": [
    {
     "data": {
      "text/plain": [
       "SVC(C=3.0, cache_size=200, class_weight=None, coef0=0.0,\n",
       "  decision_function_shape='ovr', degree=3, gamma=5.555555555555555,\n",
       "  kernel='rbf', max_iter=-1, probability=False, random_state=None,\n",
       "  shrinking=True, tol=0.001, verbose=False)"
      ]
     },
     "execution_count": 26,
     "metadata": {},
     "output_type": "execute_result"
    }
   ],
   "source": [
    "estimator.fit(X, y)"
   ]
  },
  {
   "cell_type": "markdown",
   "metadata": {},
   "source": [
    "### 視覚化"
   ]
  },
  {
   "cell_type": "markdown",
   "metadata": {},
   "source": [
    "その結果を視覚化します。"
   ]
  },
  {
   "cell_type": "code",
   "execution_count": 27,
   "metadata": {
    "collapsed": true
   },
   "outputs": [],
   "source": [
    "def visualizeBoundary(X, y, estimator):\n",
    "    plotData(X, y)\n",
    "    plt.hold(True)\n",
    "\n",
    "    # タテヨコ300x300個を決定境界を引くサンプルにします\n",
    "    sample_num = 300\n",
    "    \n",
    "    x1plot = np.linspace(min(X[:,0]), max(X[:,0]), sample_num)\n",
    "    x2plot = np.linspace(min(X[:,1]), max(X[:,1]), sample_num)\n",
    "    X1, X2 = np.meshgrid(x1plot, x2plot)\n",
    "\n",
    "    # それぞれのサンプルに関して予測値を計算\n",
    "    vals = np.array([estimator.predict(np.column_stack((X1[:, i], X2[:, i]))) for i in range(X1.shape[1])]).T\n",
    "\n",
    "#    #内包表記を使わないと以下のようになる\n",
    "#    vals = np.empty(X1.shape)\n",
    "#    for i in range(X1.shape[1]):\n",
    "#        this_X = np.column_stack((X1[:, i], X2[:, i]))\n",
    "#        vals[:, i] = estimator.predict(this_X)\n",
    "\n",
    "    #等高線を使って予測値が0である地点と1である地点の境界をプロット\n",
    "    plt.contour(X1, X2, vals)\n",
    "    plt.show()"
   ]
  },
  {
   "cell_type": "code",
   "execution_count": 28,
   "metadata": {
    "collapsed": false
   },
   "outputs": [
    {
     "name": "stderr",
     "output_type": "stream",
     "text": [
      "/opt/conda/lib/python3.5/site-packages/numpy/ma/core.py:6442: MaskedArrayFutureWarning: In the future the default for ma.minimum.reduce will be axis=0, not the current None, to match np.minimum.reduce. Explicitly pass 0 or None to silence this warning.\n",
      "  return self.reduce(a)\n",
      "/opt/conda/lib/python3.5/site-packages/numpy/ma/core.py:6442: MaskedArrayFutureWarning: In the future the default for ma.maximum.reduce will be axis=0, not the current None, to match np.maximum.reduce. Explicitly pass 0 or None to silence this warning.\n",
      "  return self.reduce(a)\n"
     ]
    },
    {
     "data": {
      "image/png": "[encoded data removed]",
      "text/plain": [
       "<matplotlib.figure.Figure at 0x7f8c0464ac18>"
      ]
     },
     "metadata": {},
     "output_type": "display_data"
    }
   ],
   "source": [
    "visualizeBoundary(X, y, estimator)"
   ]
  },
  {
   "cell_type": "markdown",
   "metadata": {},
   "source": [
    "### 評価"
   ]
  },
  {
   "cell_type": "markdown",
   "metadata": {},
   "source": [
    "**【課題５】** 得られた学習済みのモデルを使って、テスト集合に対するスコアを求めて下さい。"
   ]
  },
  {
   "cell_type": "code",
   "execution_count": 29,
   "metadata": {
    "collapsed": false,
    "scrolled": true
   },
   "outputs": [
    {
     "name": "stdout",
     "output_type": "stream",
     "text": [
      "テスト集合に対するスコアは 97.1 %\n"
     ]
    }
   ],
   "source": [
    "#Coursemale-02 Step6 QuestionNumber5 be1bb03ea26206d05613e0be4a0b0290\n",
    "print(\"テスト集合に対するスコアは \", end=\"\")\n",
    "###############ここを穴埋めしてください###############\n",
    "score_test = estimator.score(Xtest, ytest) * 100\n",
    "######################################################\n",
    "print(score_test,\"%\")"
   ]
  },
  {
   "cell_type": "markdown",
   "metadata": {},
   "source": [
    "左上の**保存マークをクリックした後**、次のセルをShift+Enterで実行して採点します。"
   ]
  },
  {
   "cell_type": "code",
   "execution_count": 30,
   "metadata": {
    "collapsed": false
   },
   "outputs": [
    {
     "name": "stdout",
     "output_type": "stream",
     "text": [
      "Congratulations!\n",
      "We give you 10 points out of 10 points.\n",
      "\n"
     ]
    }
   ],
   "source": [
    "%%bash\n",
    "./validation_client.py male-02 6 5 Step6_03.ipynb api.internal.zero2one.jp"
   ]
  },
  {
   "cell_type": "code",
   "execution_count": null,
   "metadata": {
    "collapsed": true
   },
   "outputs": [],
   "source": []
  }
 ],
 "metadata": {
  "anaconda-cloud": {},
  "kernelspec": {
   "display_name": "Python [default]",
   "language": "python",
   "name": "python3"
  },
  "language_info": {
   "codemirror_mode": {
    "name": "ipython",
    "version": 3
   },
   "file_extension": ".py",
   "mimetype": "text/x-python",
   "name": "python",
   "nbconvert_exporter": "python",
   "pygments_lexer": "ipython3",
   "version": "3.5.2"
  },
  "toc": {
   "nav_menu": {
    "height": "198px",
    "width": "252px"
   },
   "navigate_menu": true,
   "number_sections": true,
   "sideBar": true,
   "threshold": 4,
   "toc_cell": false,
   "toc_section_display": "block",
   "toc_window_display": true
  }
 },
 "nbformat": 4,
 "nbformat_minor": 1
}
